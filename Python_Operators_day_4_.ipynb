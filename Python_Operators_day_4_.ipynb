{
 "cells": [
  {
   "cell_type": "code",
   "execution_count": 2,
   "id": "a92d5d49-87d0-441d-9ad8-4484844ac65a",
   "metadata": {},
   "outputs": [],
   "source": [
    "#python operators\n",
    "#question is \n",
    "# \"\"\" scenario:- evaluating a trade in day trading.\n",
    "# Objective:\n",
    "#   Calculate potential profit , risk and other financial matrics \n",
    "#   for a day t6rade based on given stock price , account balance and\n",
    "#   pre defined trading rules.\n",
    "# \"\"\""
   ]
  },
  {
   "cell_type": "code",
   "execution_count": 3,
   "id": "e02bc399-d9f5-490c-a639-1856760fe9a1",
   "metadata": {},
   "outputs": [],
   "source": [
    "# Constants and initial conditions \n",
    "# - entry price = 150.0     #entry price for the stock\n",
    "# - exit price = 155.0      #Target exit price for the stock\n",
    "# - stop_loss_price = 148.0 #stop loss price\n",
    "# - shares_count = 10       #Number of shares considering buying\n",
    "# - account_balance = 2000.0 #Current trading account balance\n"
   ]
  },
  {
   "cell_type": "code",
   "execution_count": 7,
   "id": "42206c2a-f03f-4ff0-8485-836ec6e54f57",
   "metadata": {},
   "outputs": [
    {
     "name": "stdout",
     "output_type": "stream",
     "text": [
      "315.0\n",
      "5.0\n",
      "24800.0\n",
      "1.032258064516129\n",
      "1.0\n",
      "5.0\n",
      "25600.0\n"
     ]
    }
   ],
   "source": [
    "entry_price = 160.0     #entry price for the stock\n",
    "exit_price = 155.0      #Target exit price for the stock\n",
    "\n",
    "#Arthemetic operations \n",
    "# addition\n",
    "addition = entry_price + exit_price\n",
    "print(addition)\n",
    "\n",
    "# subtraction\n",
    "subtraction= entry_price - exit_price\n",
    "print(subtraction)\n",
    "\n",
    "# multiplication\n",
    "multiplication= entry_price * exit_price\n",
    "print(multiplication)\n",
    "\n",
    "# division \n",
    "division = entry_price / exit_price\n",
    "print(division)\n",
    "\n",
    "# doudle division \n",
    "doudle_division  = entry_price // exit_price\n",
    "print(doudle_division)\n",
    "\n",
    "# modulas \n",
    "modulas  = entry_price % exit_price\n",
    "print(modulas)\n",
    "\n",
    "# power of\n",
    "power_of = entry_price ** 2\n",
    "print(power_of)"
   ]
  },
  {
   "cell_type": "code",
   "execution_count": 11,
   "id": "d815cef7-85e2-41aa-be9d-64a8332caaeb",
   "metadata": {},
   "outputs": [
    {
     "name": "stdout",
     "output_type": "stream",
     "text": [
      "False\n",
      "True\n",
      "False\n",
      "True\n",
      "False\n",
      "True\n"
     ]
    }
   ],
   "source": [
    "#Relational Operator\n",
    "\n",
    "buy_price = 100\n",
    "sell_price = 150\n",
    "\n",
    "# >    Greater then \n",
    "\n",
    "Greater_then = buy_price > sell_price\n",
    "print(Greater_then)\n",
    "\n",
    "# <     Lower then \n",
    "\n",
    "Lower_then = buy_price < sell_price\n",
    "print(Lower_then)\n",
    "\n",
    "# >=    Greater then equal to\n",
    "\n",
    "Greater_then_equal_to = buy_price >= sell_price\n",
    "print(Greater_then_equal_to)\n",
    "\n",
    "# <=    Lower then equal to\n",
    "\n",
    "Lower_then_equal_to = buy_price <= sell_price\n",
    "print(Lower_then_equal_to)\n",
    "\n",
    "# ==    Equal to\n",
    "\n",
    "Equal_to = buy_price == sell_price\n",
    "print(Equal_to)\n",
    "\n",
    "# !=   Not Equal to\n",
    "\n",
    "Not_Equal_to = buy_price != sell_price\n",
    "print(Not_Equal_to)\n",
    "\n",
    "\n",
    "\n"
   ]
  },
  {
   "cell_type": "code",
   "execution_count": 32,
   "id": "77a73803-c208-4a8b-af7e-ca8b2de21a9e",
   "metadata": {},
   "outputs": [
    {
     "name": "stdout",
     "output_type": "stream",
     "text": [
      "True\n",
      "ok\n"
     ]
    },
    {
     "data": {
      "text/plain": [
       "False"
      ]
     },
     "execution_count": 32,
     "metadata": {},
     "output_type": "execute_result"
    }
   ],
   "source": [
    "# lOGICAL OPERATOR\n",
    "\n",
    "Entry = 100\n",
    "Exit = 150\n",
    "\n",
    "#AND \n",
    "\n",
    "if(Entry > 50 and Exit > 100 ):\n",
    "    print(True)\n",
    "else:\n",
    "    print(False)\n",
    "    \n",
    "#OR\n",
    "\n",
    "if(Entry > 50 or Exit > 100 ):\n",
    "  print(\"ok\")\n",
    "\n",
    "#NOT\n",
    "\n",
    "not(Entry > 50)\n",
    " \n",
    "\n"
   ]
  },
  {
   "cell_type": "code",
   "execution_count": 50,
   "id": "bbd2685a-42f6-4a26-aee2-7394327ba955",
   "metadata": {},
   "outputs": [
    {
     "name": "stdout",
     "output_type": "stream",
     "text": [
      "2\n",
      "3\n",
      "1\n",
      "-3\n",
      "0\n"
     ]
    },
    {
     "data": {
      "text/plain": [
       "8"
      ]
     },
     "execution_count": 50,
     "metadata": {},
     "output_type": "execute_result"
    }
   ],
   "source": [
    "#BITWISE OPERATOR\n",
    "a = 2\n",
    "b = 3\n",
    "\n",
    "#&\n",
    "c = a & b\n",
    "print(c)\n",
    "\n",
    "#|\n",
    "d = a | b\n",
    "print(d)\n",
    "\n",
    "#^\n",
    "e = a ^ b\n",
    "print(e)\n",
    "\n",
    "#~\n",
    "f = ~a\n",
    "print(f)\n",
    "\n",
    "#>>2\n",
    "g = a >>2\n",
    "print(g)\n",
    "\n",
    "#2<<\n",
    "2<< a\n",
    "\n"
   ]
  },
  {
   "cell_type": "code",
   "execution_count": 61,
   "id": "d86ac38d-4e66-4c55-a055-aaa53646dde3",
   "metadata": {},
   "outputs": [
    {
     "name": "stdout",
     "output_type": "stream",
     "text": [
      "15\n",
      "10\n",
      "50\n",
      "10.0\n"
     ]
    }
   ],
   "source": [
    "#Assignment Operator\n",
    "a = 10\n",
    "b = 5\n",
    "\n",
    "# +=\n",
    "a += b\n",
    "print(a)\n",
    "\n",
    "# -=\n",
    "a -= b\n",
    "print(a)\n",
    "\n",
    "# *=\n",
    "a *= b\n",
    "print(a)\n",
    "\n",
    "# /=\n",
    "a /= b\n",
    "print(a)\n",
    "\n",
    "# "
   ]
  },
  {
   "cell_type": "code",
   "execution_count": 65,
   "id": "510784cf-1b17-414f-9987-4965158aa71b",
   "metadata": {},
   "outputs": [
    {
     "name": "stdout",
     "output_type": "stream",
     "text": [
      "True\n",
      "False\n"
     ]
    }
   ],
   "source": [
    "#MEMBERSHIP\n",
    "\n",
    "# in\n",
    "\n",
    "a = \"S\" in \"SINGAPORE\"\n",
    "print(a)\n",
    "\n",
    "# not in\n",
    "b = \"s\" not in \"singapore\"\n",
    "print(b)"
   ]
  },
  {
   "cell_type": "code",
   "execution_count": 74,
   "id": "7aec28a9-6a1e-40ad-a7ec-f8d1033bbb18",
   "metadata": {},
   "outputs": [
    {
     "name": "stdout",
     "output_type": "stream",
     "text": [
      "entry price is greater then SL price\n",
      "share count is greater then 5\n"
     ]
    }
   ],
   "source": [
    "# if - else\n",
    "# if - elif - else\n",
    "# nested if - else\n",
    "\n",
    "entry_price = 160.0       #entry price for the stock\n",
    "exit_price = 155.0        #Target exit price for the stock\n",
    "stop_loss_price = 158.0   #stop loss price\n",
    "shares_count = 10         #Number of shares considering buying\n",
    "account_balance = 2000.0  #Current trading account balance\n",
    "\n",
    "if(entry_price < exit_price):\n",
    "    print(\"entry price is greater then exit price\")\n",
    "elif(entry_price > stop_loss_price):\n",
    "    print(\"entry price is greater then SL price\")\n",
    "    if(shares_count > 5):\n",
    "        print(\"share count is greater then 5\")\n",
    "    else:\n",
    "        print(\"share count is lower then 5\")\n",
    "else:\n",
    "    print(\"both conditions are not true\")\n",
    "\n",
    "\n"
   ]
  },
  {
   "cell_type": "code",
   "execution_count": null,
   "id": "94281bd8-cb2b-4b84-89c0-bdec2a5b9973",
   "metadata": {},
   "outputs": [],
   "source": [
    "##PYTHON MODULES\n",
    "#modules are the block of code used by someone else \n",
    "#and written by someone else\n",
    "\n",
    "# math\n",
    "# keywords\n",
    "# random\n",
    "# datetime\n",
    "# List all modules"
   ]
  },
  {
   "cell_type": "code",
   "execution_count": 7,
   "id": "1a2dd303-8135-4997-8e02-1b4ba9fb04b2",
   "metadata": {},
   "outputs": [
    {
     "data": {
      "text/plain": [
       "5.0"
      ]
     },
     "execution_count": 7,
     "metadata": {},
     "output_type": "execute_result"
    }
   ],
   "source": [
    "#when you want to add module just type import\n",
    "\n",
    "import math\n",
    "#1. math\n",
    "\n",
    "#math.factorial()\n",
    "#math.floor()\n",
    "#math.sqrt()\n",
    "\n",
    "math.factorial(5)\n",
    "math.floor(6.5)\n",
    "math.ceil(6.5)\n",
    "math.sqrt(25)"
   ]
  },
  {
   "cell_type": "code",
   "execution_count": 9,
   "id": "e21cfed6-5528-4549-82c3-a36e669e964a",
   "metadata": {},
   "outputs": [
    {
     "name": "stdout",
     "output_type": "stream",
     "text": [
      "['False', 'None', 'True', 'and', 'as', 'assert', 'async', 'await', 'break', 'class', 'continue', 'def', 'del', 'elif', 'else', 'except', 'finally', 'for', 'from', 'global', 'if', 'import', 'in', 'is', 'lambda', 'nonlocal', 'not', 'or', 'pass', 'raise', 'return', 'try', 'while', 'with', 'yield']\n"
     ]
    }
   ],
   "source": [
    "#2. keyword\n",
    "\n",
    "import keyword\n",
    "\n",
    "print(keyword.kwlist) #all the keyword list in python\n"
   ]
  },
  {
   "cell_type": "code",
   "execution_count": 14,
   "id": "79930b36-3c8a-4be1-ab9d-801be1ec8f91",
   "metadata": {},
   "outputs": [
    {
     "data": {
      "text/plain": [
       "71"
      ]
     },
     "execution_count": 14,
     "metadata": {},
     "output_type": "execute_result"
    }
   ],
   "source": [
    "#3. random\n",
    "\n",
    "import random\n",
    "\n",
    "random.randint(1,100) #generate random number"
   ]
  },
  {
   "cell_type": "code",
   "execution_count": 19,
   "id": "5acdc29b-874a-4f7f-b48e-f62bfd43f150",
   "metadata": {},
   "outputs": [
    {
     "name": "stdout",
     "output_type": "stream",
     "text": [
      "2025-09-25 14:25:56.720941\n"
     ]
    }
   ],
   "source": [
    "#4. datetime.datetime.now()\n",
    "\n",
    "import datetime\n",
    "\n",
    "print(datetime.datetime.now())"
   ]
  },
  {
   "cell_type": "code",
   "execution_count": 40,
   "id": "39b53e38-d783-44d0-b073-c957b17dd400",
   "metadata": {},
   "outputs": [
    {
     "name": "stdout",
     "output_type": "stream",
     "text": [
      "today's date : 2025-09-25 14:34:58.908211\n",
      "Initial price : 150\n",
      "New price : 157.5\n"
     ]
    }
   ],
   "source": [
    "#choice()\n",
    "#initial Stock Price and Voiatility\n",
    "\n",
    "import random\n",
    "\n",
    "initial_price = 150\n",
    "volatility = 0.05\n",
    "\n",
    "volatility_change = random.choice([-volatility, volatility])\n",
    "\n",
    "daily_price_change = initial_price + (initial_price*volatility_change)\n",
    "\n",
    "today = datetime.datetime.today()\n",
    "\n",
    "print(\"today's date :\" , today )\n",
    "print(\"Initial price :\" , initial_price )\n",
    "print(\"New price :\" , daily_price_change )"
   ]
  },
  {
   "cell_type": "code",
   "execution_count": null,
   "id": "7013bd60-adb1-44f3-97b3-e8211e309bf9",
   "metadata": {},
   "outputs": [],
   "source": [
    "# help modules\n",
    "\n",
    "#help('modules')  #list of all modules"
   ]
  },
  {
   "cell_type": "code",
   "execution_count": null,
   "id": "5fbb5b67-005d-473c-9a7d-d0b6729f04a4",
   "metadata": {},
   "outputs": [],
   "source": [
    "#LOOPS IN PYTHON\n",
    "\n",
    "#WHY WE NEED LOOPS ?\n",
    "# WHENEVER WE WANT TO BEAT A SIMPLE CODE MULTIPLE TIMES THEN WE USE LOOPS\n",
    "# OTHERWISE YOUR PROGRAM WILL BE INIFFICIENT OR YOU WANT TO WRITE SOME \n",
    "# CODE MULTIPLE TIMES\n",
    "\n",
    "#1. NEED FOR LOOPS\n",
    "#2. WHILE LOOPS\n",
    "\n",
    "# .used when the number of iterations is not known beforehand\n",
    "# .The loop continues as long as the condition is true\n",
    "\n",
    "#3. FOR LOOP\n",
    "\n",
    "# .Used when the number of iteration is known or when iterating \n",
    "#  over a sequence\n",
    "# .The loop continues for each item in the sequence"
   ]
  },
  {
   "cell_type": "code",
   "execution_count": null,
   "id": "7dd63648-78b6-48ef-b95a-6dd6ce3840b4",
   "metadata": {},
   "outputs": [],
   "source": [
    "#1. While loop\n",
    "\n",
    "current_price = 150\n",
    "target_price = 155\n",
    "\n",
    " while current_price < target_price:\n",
    "   print(\"price is still below\")\n",
    "   current_price +=1\n",
    "    \n",
    "print(\"now you casn sell\")"
   ]
  },
  {
   "cell_type": "code",
   "execution_count": null,
   "id": "f70c1980-964d-4c5c-8f48-5ee629f650ee",
   "metadata": {},
   "outputs": [],
   "source": [
    "#2 While else with example\n",
    "\n",
    "price = [110 , 112 , 114 , 116 , 118]\n",
    "threshold_price = 115\n",
    "index = 0\n",
    "\n",
    "while index < len(price):\n",
    "    if price[index] > threshold_price:\n",
    "        print(f\"thr price {price[index]} breaches the threshold price{threshold_price} at {index}\")\n",
    "        break\n",
    "        index +=1\n",
    "    else: print(\"there is no price breach\")\n",
    "    print('search is completed')"
   ]
  },
  {
   "cell_type": "code",
   "execution_count": null,
   "id": "faff0ab6-a2af-41ef-bf47-c34ade818d4e",
   "metadata": {},
   "outputs": [],
   "source": [
    "#3 For Loop\n",
    "\n",
    "#example:- Average closing price over a 5-day period\n",
    "closing-price [ 120 , 112 , 114 , 111 ,  112 ]\n",
    "total_price = 0\n",
    "\n",
    "for i in closing_price:\n",
    "    total_price +=i\n",
    " avg_closing_price = total_price/len(closing_price)\n",
    "print('the average closing price of 5 days is ' , avg_closing_price )"
   ]
  }
 ],
 "metadata": {
  "kernelspec": {
   "display_name": "Python [conda env:base] *",
   "language": "python",
   "name": "conda-base-py"
  },
  "language_info": {
   "codemirror_mode": {
    "name": "ipython",
    "version": 3
   },
   "file_extension": ".py",
   "mimetype": "text/x-python",
   "name": "python",
   "nbconvert_exporter": "python",
   "pygments_lexer": "ipython3",
   "version": "3.13.5"
  }
 },
 "nbformat": 4,
 "nbformat_minor": 5
}
