{
 "cells": [
  {
   "cell_type": "code",
   "execution_count": null,
   "id": "f46425e8-1394-416f-a509-d21f58bfc276",
   "metadata": {},
   "outputs": [],
   "source": [
    "#Python List\n",
    "\n",
    "#definition\n",
    "#list is a data type where you can store multiple values inder 1 name.\n",
    "#more technically, list act like dymanic arrays which means you can add more items on the fly\n",
    "#why lists are required in programming ?"
   ]
  },
  {
   "cell_type": "code",
   "execution_count": null,
   "id": "f5646c37-347c-45e3-bac7-d8421b433db6",
   "metadata": {},
   "outputs": [],
   "source": [
    "#Arrays vs Lists\n",
    "\n",
    "#Fixed vs Dymanic Size\n",
    "#Convenience -> Hetrogeneous\n",
    "#Speed of execution\n",
    "#memory"
   ]
  },
  {
   "cell_type": "code",
   "execution_count": 8,
   "id": "a37a27e9-3262-4c4d-9cb4-6c94cb51fd1a",
   "metadata": {},
   "outputs": [
    {
     "name": "stdout",
     "output_type": "stream",
     "text": [
      "1530387500800\n",
      "140704669155336\n",
      "1530349109296\n",
      "1530368900272\n",
      "140704668240352\n",
      "140704669155336\n",
      "1530349109296\n",
      "1530325838384\n",
      "140704668240352\n"
     ]
    }
   ],
   "source": [
    "#Empty\n",
    "\n",
    "trade_logs = [ 100 , \"APPL\" , 115.5 , True ] \n",
    "print(id(trade_logs))\n",
    "\n",
    "print(id(trade_logs[0]))\n",
    "print(id(trade_logs[1]))\n",
    "print(id(trade_logs[2]))\n",
    "print(id(trade_logs[3]))\n",
    "\n",
    "#String interning\n",
    "\n",
    "print(id(100))\n",
    "print(id(\"APPL\"))\n",
    "print(id(115.5))     #Address changes only for float value\n",
    "print(id(True))\n"
   ]
  },
  {
   "cell_type": "code",
   "execution_count": null,
   "id": "f9bfee85-4c90-4e4d-9b0e-c66373f49503",
   "metadata": {},
   "outputs": [],
   "source": [
    "#arrays                   vs       list\n",
    "#PROS\n",
    "\n",
    "#1. int are [50]-fixed        1.[] , [ ,  , ] no restrictions\n",
    "\n",
    "#2. Homogeneous               2. Hetrogeneous\n",
    "\n",
    "#CONS\n",
    "\n",
    "#1. Speed of Execution        1. Slow\n",
    "\n",
    "#2. Less memory size          2. More memory size"
   ]
  },
  {
   "cell_type": "code",
   "execution_count": null,
   "id": "cc8e8b21-9bf7-4828-81f6-01c180148ec1",
   "metadata": {},
   "outputs": [],
   "source": [
    "#array :- int array[50 ] , [ 1 ,2 ,3 ]\n",
    "\n",
    "# [1][2][3][4][5]\n",
    "#  |\n",
    "# 0001\n",
    "# (Binary)\n"
   ]
  },
  {
   "cell_type": "code",
   "execution_count": null,
   "id": "9e983a5e-e12b-419c-bf43-837655751282",
   "metadata": {},
   "outputs": [],
   "source": [
    "#List :-              [1 ,2 ,3 ]\n",
    "#this will get         |  |  |\n",
    "#stored somewhere     _  _  _\n",
    "#in memory           |1||2||3|   - -\n",
    "#                    =========       |\n",
    "#These address get   500 600 700    |- their adresses\n",
    "#stored |            =========\n",
    "#      |              |  |  |\n",
    "#     |-----------=  =============\n",
    "#                   |500 600 700 | -- Referntial array pointer array\n",
    "#                   =============\n",
    "#                   1000 1001 1002\n",
    "#                     |   |    |\n",
    "#             This address have their own address\n",
    "#       Thats why it is SLOWER / BIGGER\n",
    "#                         |         |\n",
    "#        Address finding time      |\n",
    "#                                 |\n",
    "#           It is storing two values in a size"
   ]
  },
  {
   "cell_type": "code",
   "execution_count": 9,
   "id": "6cc4fda6-5df3-4a97-b4f7-264edd649b36",
   "metadata": {},
   "outputs": [
    {
     "name": "stdout",
     "output_type": "stream",
     "text": [
      "['100', 'BTC', '115.5', 'True']\n"
     ]
    }
   ],
   "source": [
    "# 1D Homogeneous List\n",
    "\n",
    "trade_logs= [\"100\" , \"BTC\" , \"115.5\" , \"True\" ]\n",
    "print(trade_logs)\n"
   ]
  },
  {
   "cell_type": "code",
   "execution_count": 15,
   "id": "de0a75a9-c2fc-44bc-a955-bb222fcb781e",
   "metadata": {},
   "outputs": [
    {
     "name": "stdout",
     "output_type": "stream",
     "text": [
      "[100, 'BTC', 115.5, True]\n",
      "[[100, 'BTC', 115.5, True], 200, 300]\n",
      "[[[100, 'BTC', 115.5, True], 200, 300], [100, 'BTC', 115.5, True], 200, 300]\n"
     ]
    }
   ],
   "source": [
    "#Hetregeneous List\n",
    "\n",
    "trade_logs= [100 , \"BTC\" , 115.5 , True ]  #converted to homogeneous list on homogeneous section\n",
    "print(trade_logs)\n",
    "\n",
    "# 2D Hetrgeneous List\n",
    "\n",
    "trade_logs= [[100 , \"BTC\" , 115.5 , True ], 200 ,300 ]\n",
    "print(trade_logs)\n",
    "\n",
    "\n",
    "# 3D Hetrgeneous List\n",
    "\n",
    "trade_logs= [[[100 , \"BTC\" , 115.5 , True ], 200 ,300 ],[100 , \"BTC\" , 115.5 , True ], 200 ,300 ]\n",
    "print(trade_logs)\n"
   ]
  },
  {
   "cell_type": "code",
   "execution_count": 19,
   "id": "2833a3a6-dc69-427c-9085-6b732f67b0d2",
   "metadata": {},
   "outputs": [
    {
     "name": "stdout",
     "output_type": "stream",
     "text": [
      "['Buy']\n",
      "<class 'list'>\n"
     ]
    }
   ],
   "source": [
    "#Using Type Cpnversion\n",
    "\n",
    "print(list([\"Buy\"]))\n",
    "print(type(list([\"Buy\"])))"
   ]
  },
  {
   "cell_type": "code",
   "execution_count": 36,
   "id": "a257d6af-fe7e-43ed-9901-0d0958c4d4eb",
   "metadata": {},
   "outputs": [
    {
     "data": {
      "text/plain": [
       "[[100, 'BTC', 115.5, True], 200]"
      ]
     },
     "execution_count": 36,
     "metadata": {},
     "output_type": "execute_result"
    }
   ],
   "source": [
    "#Indexing\n",
    "\n",
    "trade_logs= [[100 , \"BTC\" , 115.5 , True ], 200 ,300 ]\n",
    "\n",
    "#Positive \n",
    "\n",
    "#trade_logs[0]     #[100, 'BTC', 115.5, True]\n",
    "#trade_logs[0][1]  #'BTC'\n",
    "#\n",
    "\n",
    "#Negative\n",
    "\n",
    "#trade_logs[-3]      #[100, 'BTC', 115.5, True]\n",
    "#trade_logs[-3][-3]  #'BTC'\n",
    "\n",
    "#Slicing\n",
    "\n",
    "#trade_logs[0:2]     #[[100, 'BTC', 115.5, True], 200]\n",
    "#trade_logs[-3:-1]    #[[100, 'BTC', 115.5, True], 200]\n"
   ]
  },
  {
   "cell_type": "code",
   "execution_count": 25,
   "id": "d875994f-812a-41dd-ba4b-96222dd5dc99",
   "metadata": {},
   "outputs": [
    {
     "name": "stdout",
     "output_type": "stream",
     "text": [
      "[[100, 'ETH', 'BTC', 115.5, True], 200, 300]\n"
     ]
    }
   ],
   "source": [
    "#Adding Items To List\n",
    "trade_logs= [[100 , \"BTC\" , 115.5 , True ], 200 ,300 ]\n",
    "\n",
    "#Append\n",
    "#trade_logs.append(355.5)                     #Add Single Item\n",
    "#trade_logs.append([\"Bhavik\" , True , 33.4])  #Add Multiple Items\n",
    "\n",
    "#print(trade_logs)\n",
    "\n",
    "#Extend\n",
    "\n",
    "# buy_condition = \"Bhavik\"                          #output:- 'b','h','a','v','i','k'\n",
    "# buy_condition = [[\"Bhavik\" , True , 22.2 , 33]]   #[[100, 'BTC', 115.5, True], 200, 300, ['Bhavik', True, 22.2, 33]]\n",
    "# trade_logs.extend(buy_condition)                     \n",
    "\n",
    "# print(trade_logs)                 #[[100, 'BTC', 115.5, True], 200, 300]\n",
    "#trade_logs.extend(buy_condition)\n",
    "#print(trade_logs)                  #[[100, 'BTC', 115.5, True], 200, 300, 'B', 'h', 'a', 'v', 'i', 'k']\n",
    "\n",
    "#Insert\n",
    "\n",
    "#trade_logs.insert(1,100)      #[[100, 'BTC', 115.5, True], 100, 200, 300]\n",
    "trade_logs[0].insert(1,\"ETH\")  #[[100, 'ETH', 'BTC', 115.5, True], 200, 300]\n",
    "print(trade_logs)\n"
   ]
  },
  {
   "cell_type": "code",
   "execution_count": 30,
   "id": "116cf693-8e92-425c-a80e-16d0b931557a",
   "metadata": {},
   "outputs": [
    {
     "name": "stdout",
     "output_type": "stream",
     "text": [
      "[[200, 'RWA', 22.4, False], 200, 300]\n"
     ]
    }
   ],
   "source": [
    "#EDITING ITEMS ON LIST\n",
    "\n",
    "#editing with indexing\n",
    "\n",
    "trade_logs= [[100 , \"BTC\" , 115.5 , True ], 200 ,300 ]\n",
    "\n",
    "#trade_logs[1]= \"XRP\"      #[[100, 'BTC', 115.5, True], 'XRP', 300]\n",
    "# trade_logs[0][1] = \"ETH\"   #[[100, 'ETH', 115.5, True], 200, 300]\n",
    "# print(trade_logs)\n",
    "\n",
    "\n",
    "#editing with slicing\n",
    "\n",
    "trade_logs[0][:] = [200 , \"RWA\" , 22.4 , False ]\n",
    "print(trade_logs)\n"
   ]
  },
  {
   "cell_type": "code",
   "execution_count": 36,
   "id": "d452b708-db68-49d1-a66e-98d5c3564712",
   "metadata": {},
   "outputs": [
    {
     "name": "stdout",
     "output_type": "stream",
     "text": [
      "[[100, 115.5, True], 200, 300]\n"
     ]
    }
   ],
   "source": [
    "#Delete \n",
    "\n",
    "\n",
    "#trade_logs= [[100 , \"BTC\" , 115.5 , True ], 200 ,300 ]\n",
    "#print(trade_logs)\n",
    "\n",
    "#del trade_logs\n",
    "#print(trade_logs)\n",
    "\n",
    "\n",
    "\n",
    "#Indexing\n",
    "\n",
    "#trade_logs= [[100 , \"BTC\" , 115.5 , True ], 200 ,300 ]\n",
    "\n",
    "#del trade_logs[1]     #[[100, 'BTC', 115.5, True], 300]\n",
    "#del trade_logs[0][1]  #[[100, 115.5, True], 200, 300]\n",
    "#print(trade_logs)\n",
    "\n",
    "\n",
    "\n",
    "\n",
    "#Slicing\n",
    "\n",
    "#trade_logs= [[100 , \"BTC\" , 115.5 , True ], 200 ,300 ]\n",
    "\n",
    "#del trade_logs[0][1:3]  #[[100, True], 200, 300]\n",
    "#print(trade_logs)"
   ]
  },
  {
   "cell_type": "code",
   "execution_count": 44,
   "id": "6bcdb6b3-a91c-45b0-b391-90bc5a744f4b",
   "metadata": {},
   "outputs": [
    {
     "name": "stdout",
     "output_type": "stream",
     "text": [
      "[[100, 'BTC', 115.5, True], 200, 300]\n",
      "[]\n"
     ]
    }
   ],
   "source": [
    "#Remove\n",
    "\n",
    "trade_logs= [[100 , \"BTC\" , 115.5 , True ], 200 ,300 ]\n",
    "\n",
    "#trade_logs.remove(200)         #[[100, 'BTC', 115.5, True], 300]\n",
    "#trade_logs[0].remove(\"BTC\")    #[[100, 115.5, True], 300]\n",
    "#print(trade_logs)\n",
    "\n",
    "\n",
    "#POP\n",
    "\n",
    "#trade_logs.pop()           #[[100, 'BTC', 115.5, True], 200]\n",
    "#trade_logs[0].pop(-1)      #[[100, 'BTC', 115.5], 200]\n",
    "print(trade_logs)\n",
    "\n",
    "\n",
    "#CLEAR\n",
    "\n",
    "trade_logs.clear()  \n",
    "print(trade_logs)"
   ]
  },
  {
   "cell_type": "code",
   "execution_count": 59,
   "id": "e128a10f-bf20-4612-95e6-06107452733a",
   "metadata": {},
   "outputs": [
    {
     "name": "stdout",
     "output_type": "stream",
     "text": [
      "100\n",
      "BTC\n",
      "115.5\n",
      "True\n"
     ]
    }
   ],
   "source": [
    "#Operations on List\n",
    "\n",
    "#Arthmetic Operations \n",
    "a = [[100 , \"BTC\" , 115.5 , True ], 200 ,300 ]\n",
    "# b = [ 400 , 500 ]\n",
    "# c = a + b\n",
    "# print(c)\n",
    "\n",
    "# b = a[0]*2\n",
    "# print(b)\n",
    "\n",
    "\n",
    "\n",
    "#Loops\n",
    "\n",
    "for i in a[0]:\n",
    " print(i)\n"
   ]
  },
  {
   "cell_type": "code",
   "execution_count": 66,
   "id": "df5b8c46-0162-4c46-b531-58691fa86d55",
   "metadata": {},
   "outputs": [
    {
     "data": {
      "text/plain": [
       "[300, 200, 200, 100]"
      ]
     },
     "execution_count": 66,
     "metadata": {},
     "output_type": "execute_result"
    }
   ],
   "source": [
    "#List Functions \n",
    "\n",
    "#Len/min/max/sorted\n",
    "\n",
    "a = [[100 , \"BTC\" , 115.5 , True ], 200 ,300 ]\n",
    "len(a)   #3\n",
    "\n",
    "b = [200 ,200 , 100 , 300]\n",
    "min(b)\n",
    "max(b)\n",
    "sorted(b)\n",
    "sorted(b , reverse=True)"
   ]
  },
  {
   "cell_type": "code",
   "execution_count": 67,
   "id": "b67f861f-fb03-41d6-81cd-ab62fb22d9a2",
   "metadata": {},
   "outputs": [
    {
     "data": {
      "text/plain": [
       "3"
      ]
     },
     "execution_count": 67,
     "metadata": {},
     "output_type": "execute_result"
    }
   ],
   "source": [
    "#count\n",
    "\n",
    "a = [100 , 200 , 300 , 100 , 200 , 300 , 100 , 200 , 300]\n",
    "a.count(100)"
   ]
  },
  {
   "cell_type": "code",
   "execution_count": 71,
   "id": "015555fd-251f-409e-9197-e3e35ea43ac3",
   "metadata": {},
   "outputs": [
    {
     "name": "stdout",
     "output_type": "stream",
     "text": [
      "[300, 200, 100, 300, 200, 100, 300, 200, 100]\n"
     ]
    }
   ],
   "source": [
    "#reverse\n",
    "\n",
    "a = [100 , 200 , 300 , 100 , 200 , 300 , 100 , 200 , 300]\n",
    "a.reverse()\n",
    "print(a)\n",
    "\n",
    "#permanently reverse the list"
   ]
  },
  {
   "cell_type": "code",
   "execution_count": 73,
   "id": "60779df7-29c1-4e31-9d6f-3d7b324f85ef",
   "metadata": {},
   "outputs": [
    {
     "name": "stdout",
     "output_type": "stream",
     "text": [
      "[100, 200, 300, 100, 200, 300, 100, 200, 300]\n",
      "[100, 100, 100, 200, 200, 200, 300, 300, 300]\n"
     ]
    }
   ],
   "source": [
    "#sort vs #Sorted\n",
    "\n",
    "a = [100 , 200 , 300 , 100 , 200 , 300 , 100 , 200 , 300]\n",
    "sorted(a)\n",
    "print(a)\n",
    "a.sort()\n",
    "print(a)"
   ]
  },
  {
   "cell_type": "code",
   "execution_count": 75,
   "id": "08971c0c-caab-4892-a9d0-254ad0c48745",
   "metadata": {},
   "outputs": [
    {
     "name": "stdout",
     "output_type": "stream",
     "text": [
      "[100, 200, 300, 100, 200, 300, 100, 200, 300]\n",
      "2259489656064\n",
      "[100, 200, 300, 100, 200, 300, 100, 200, 300]\n",
      "2259498600576\n"
     ]
    }
   ],
   "source": [
    "#copy --> Shalow\n",
    "\n",
    "a = [100 , 200 , 300 , 100 , 200 , 300 , 100 , 200 , 300]\n",
    "print(a)\n",
    "print(id(a))\n",
    "new = a.copy()\n",
    "print(new)\n",
    "print(id(new))"
   ]
  },
  {
   "cell_type": "code",
   "execution_count": null,
   "id": "e1755d3e-fe0f-404e-a42c-cf94bbb23dbd",
   "metadata": {},
   "outputs": [],
   "source": [
    "#lIST COMPREHENSION\n",
    "\n",
    "#list comprehension provides a concise way of creating list, means \n",
    "#we can create complex list in a single line of code\n",
    "\n",
    "#Advantages oif list comphrension \n",
    "#1. more itme efficient and sapace-efificient than loops \n",
    "#2. Require fewer lines of code\n",
    "#3. Transform iterative statement into a formula\n"
   ]
  },
  {
   "cell_type": "code",
   "execution_count": 6,
   "id": "6149b026-ef77-4196-9a48-8e433a2d57dd",
   "metadata": {},
   "outputs": [
    {
     "name": "stdout",
     "output_type": "stream",
     "text": [
      "[1, 2, 3, 4, 5, 6, 7, 8, 9, 10]\n"
     ]
    },
    {
     "data": {
      "text/plain": [
       "[1, 2, 3, 4, 5, 6, 7, 8, 9, 10]"
      ]
     },
     "execution_count": 6,
     "metadata": {},
     "output_type": "execute_result"
    }
   ],
   "source": [
    "#new_list = [expresion for i in iterable if condition == True ]\n",
    "#this is a basic formula\n",
    "\n",
    "L = []\n",
    "for i in range(1 ,11):\n",
    "  L.append(i)\n",
    "print(L)\n",
    "\n",
    "[i for i in range (1 , 11)]"
   ]
  },
  {
   "cell_type": "code",
   "execution_count": 8,
   "id": "6a541abe-d7de-4ba0-b48f-30d8c3f79c0e",
   "metadata": {},
   "outputs": [
    {
     "name": "stdout",
     "output_type": "stream",
     "text": [
      "[-6]\n",
      "[-6, -9]\n",
      "[-6, -9, -12]\n"
     ]
    },
    {
     "data": {
      "text/plain": [
       "[-6, -9, -12]"
      ]
     },
     "execution_count": 8,
     "metadata": {},
     "output_type": "execute_result"
    }
   ],
   "source": [
    "#Scaler Multiplication on a vector\n",
    "\n",
    "v = [ 2 , 3 , 4 ]\n",
    "s = -3\n",
    "L = []\n",
    "\n",
    "for i in v:\n",
    "    L.append(i*s)\n",
    "    print(L)\n",
    "\n",
    "[i*s for i in v]"
   ]
  },
  {
   "cell_type": "code",
   "execution_count": 12,
   "id": "fe602b72-5b4a-48fb-8219-57ed9995bb1a",
   "metadata": {},
   "outputs": [
    {
     "name": "stdout",
     "output_type": "stream",
     "text": [
      "[4]\n",
      "[4, 9]\n",
      "[4, 9, 16]\n",
      "[4, 9, 16, 25]\n",
      "[4, 9, 16, 25, 36]\n",
      "[4, 9, 16, 25, 36, 49]\n",
      "[4, 9, 16, 25, 36, 49, 64]\n",
      "[4, 9, 16, 25, 36, 49, 64, 81]\n",
      "[4, 9, 16, 25, 36, 49, 64, 81, 100]\n"
     ]
    },
    {
     "data": {
      "text/plain": [
       "[4, 9, 16, 25, 36, 49, 64, 81, 100]"
      ]
     },
     "execution_count": 12,
     "metadata": {},
     "output_type": "execute_result"
    }
   ],
   "source": [
    "#add squares\n",
    "\n",
    "L = [ 2 , 3 , 4 , 5 , 6 , 7 , 8 , 9 , 10 ]\n",
    "s = []\n",
    "\n",
    "for i in L:\n",
    "    s.append(i ** 2)\n",
    "    print(s)\n",
    "\n",
    "[i** 2 for i in L]"
   ]
  },
  {
   "cell_type": "code",
   "execution_count": 25,
   "id": "065e4063-5e75-46bb-a4e1-5aa89bfa4840",
   "metadata": {},
   "outputs": [
    {
     "name": "stdout",
     "output_type": "stream",
     "text": [
      "100\n",
      "BTC\n",
      "115.5\n",
      "True\n",
      "[100, 'BTC', 115.5, True]\n",
      "200\n",
      "300\n"
     ]
    }
   ],
   "source": [
    "#2 ways to travers a list \n",
    "\n",
    "# -itemwise\n",
    "\n",
    "a = [[100 , \"BTC\" , 115.5 , True ], 200 ,300 ]\n",
    "\n",
    "for i in a[0] :\n",
    " print(i)\n",
    "\n",
    "# -indexwise\n",
    "\n",
    "for i in range(0 , len(a)):\n",
    "  print(a[i])\n"
   ]
  },
  {
   "cell_type": "code",
   "execution_count": null,
   "id": "ab83a695-6c05-4292-819b-84f6dff12328",
   "metadata": {},
   "outputs": [],
   "source": [
    "#ZIP \n",
    "\n",
    "#the zip() function returns a zip object, which is an iterator of tuples where the first item in each\n",
    "#passed iterator is paired together , and then the second item in each passed iterator are paired together\n",
    "\n",
    "#if the itetrator have different lengths the iterator eith the least item decides\n",
    "#the length of new iterator\n"
   ]
  },
  {
   "cell_type": "code",
   "execution_count": 41,
   "id": "bdf35b7d-b3a0-4cb7-89c2-b6c95566b6fb",
   "metadata": {},
   "outputs": [
    {
     "name": "stdout",
     "output_type": "stream",
     "text": [
      "(1, -1)\n",
      "(2, -2)\n",
      "(3, -3)\n",
      "1 -1\n",
      "2 -2\n",
      "3 -3\n"
     ]
    },
    {
     "data": {
      "text/plain": [
       "[0, 0, 0]"
      ]
     },
     "execution_count": 41,
     "metadata": {},
     "output_type": "execute_result"
    }
   ],
   "source": [
    "#write a program to add items of 2 list indexwise\n",
    "\n",
    "L1 = [1 , 2 , 3 ]\n",
    "L2 = [-1 , -2 , -3 ]\n",
    "\n",
    "zip(L1 , L2 )  #<zip at 0x21d0a078a40>\n",
    "\n",
    "#so the zip function returns a zip object assing list () to see value\n",
    "\n",
    "z = list(zip(L1 , L2 ) )\n",
    "\n",
    "for i in z:\n",
    "    print(i)\n",
    "\n",
    "for i,j in z:\n",
    "    print(i,j)\n",
    "\n",
    "[(i+j) for i,j in z]"
   ]
  },
  {
   "cell_type": "code",
   "execution_count": 43,
   "id": "28dbac9e-78c3-4062-97d0-7b29a7318d10",
   "metadata": {},
   "outputs": [
    {
     "name": "stdout",
     "output_type": "stream",
     "text": [
      "[1, 2, 3]\n",
      "[1, 2, 3]\n",
      "2323746156608\n",
      "2323746156608\n",
      "[2, 3]\n",
      "[2, 3]\n"
     ]
    }
   ],
   "source": [
    "#Disadvantages of python list\n",
    "\n",
    "#1. slow\n",
    "#2. Risky usage\n",
    "#3. eats up more memory\n",
    "\n",
    "a = [ 1 , 2 , 3 ]\n",
    "b = a\n",
    "\n",
    "print(a)\n",
    "print(b)\n",
    "\n",
    "print(id(a))       #2323746200832  #both memory addrress are same \n",
    "print(id(b))       #2323746200832\n",
    "\n",
    "#but is i del a[0]\n",
    "\n",
    "del(a[0])\n",
    "print(a)\n",
    "print(b)        #it also delete b variable "
   ]
  }
 ],
 "metadata": {
  "kernelspec": {
   "display_name": "Python [conda env:base] *",
   "language": "python",
   "name": "conda-base-py"
  },
  "language_info": {
   "codemirror_mode": {
    "name": "ipython",
    "version": 3
   },
   "file_extension": ".py",
   "mimetype": "text/x-python",
   "name": "python",
   "nbconvert_exporter": "python",
   "pygments_lexer": "ipython3",
   "version": "3.13.5"
  }
 },
 "nbformat": 4,
 "nbformat_minor": 5
}
