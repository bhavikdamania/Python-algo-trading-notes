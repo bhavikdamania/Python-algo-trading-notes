{
 "cells": [
  {
   "cell_type": "code",
   "execution_count": null,
   "id": "5c7b4215-ec68-43a5-b071-09d7f02730d4",
   "metadata": {},
   "outputs": [],
   "source": [
    "# What is object oriented programming ?\n",
    "\n",
    "# it organises our programs as objects\n",
    "\n",
    "#              1] Class\n",
    "#              2] Objects\n",
    "#              3] Encapsulation \n",
    "#    OOP  -->         \n",
    "#              4] Inheritance\n",
    "#              5] Abstraction\n",
    "#              6] Polymorphism"
   ]
  },
  {
   "cell_type": "code",
   "execution_count": null,
   "id": "e4390529-64a4-4c48-96cb-a8889a1e4a84",
   "metadata": {},
   "outputs": [],
   "source": [
    "\n",
    "# why do we need object oriented programming ?\n",
    "# Why we need oop?\n",
    "\n",
    "# when we have a very messy code it can canvert into an very neat and clean code.\n",
    "# for instance , \n",
    "# -> variable   -|  --> OOP --> Messy /   --> Neat / Clean\n",
    "# -> Functions  -|      |--> Sphaghetti   --> Readable"
   ]
  },
  {
   "cell_type": "code",
   "execution_count": null,
   "id": "9a75400f-cea0-490e-b40d-05ace9a89db9",
   "metadata": {},
   "outputs": [],
   "source": [
    "\n",
    "# Lets understand --> 1] Class Human :\n",
    "\n",
    "# 1] Class :-> Blueprint -> which tells us , how the objects --> Behave\n",
    "# for instance , God created human being\n",
    "\n",
    "# class = human                        ==============|\n",
    "#                                                    |       \n",
    "#           =================                        |\n",
    "#           |               |   1] Head   <---|      |\n",
    "# data      | Properties /  |   2] Hands  <-- |      |        /-> Male    \n",
    "# ========  | Attributes    |   3] Legs   <-- | --   |      /\n",
    "# variable  |               |   4] Eyes   <---|   |  |--> / -> female\n",
    "#           =================                     |  |\n",
    "#           |               |                     |  |\n",
    "# Methods   | Function /    |  <------------------|  |\n",
    "#           | Behaviour     |                        |\n",
    "#           |               |                        |\n",
    "#           =================                        |\n",
    "#                                                    |\n",
    "#  ==================================================|  \n",
    "#                         |\n",
    "#                         |"
   ]
  },
  {
   "cell_type": "code",
   "execution_count": null,
   "id": "fd17f900-2a91-4324-afdb-37996e377587",
   "metadata": {},
   "outputs": [],
   "source": [
    "#                         |\n",
    "# 2 ] Objects : for instance, of the class\n",
    "#     when god created human , a individual person is also created  \n",
    "\n",
    "# Individual [ objects ]\n",
    "#    |        \n",
    "#  Bhavik = Human ( ) \n",
    "#             |\n",
    "#           Class\n"
   ]
  },
  {
   "cell_type": "code",
   "execution_count": 6,
   "id": "8a3226e9-4189-447a-ba12-085c719c95e2",
   "metadata": {},
   "outputs": [],
   "source": [
    "#hands on lab \n",
    "# understanding class and objects\n",
    "\n",
    "class Human:\n",
    "    hands =  2          #in generally these are the variables\n",
    "    legs = 2            # in generally we call them attributes / properties etc\n",
    "    head = 1\n",
    "\n",
    "    def vision():\n",
    "        pass\n",
    "    def walk():\n",
    "        pass\n",
    "    def think():\n",
    "        pass"
   ]
  },
  {
   "cell_type": "code",
   "execution_count": 7,
   "id": "bb07ab3b-8819-4cf1-ab2f-3272c3db8196",
   "metadata": {},
   "outputs": [],
   "source": [
    "Bhavik = Human()"
   ]
  },
  {
   "cell_type": "code",
   "execution_count": 8,
   "id": "9a2d77d4-0d6b-44c7-a0c3-47c22cec4ea8",
   "metadata": {},
   "outputs": [
    {
     "ename": "TypeError",
     "evalue": "Human.vision() takes 0 positional arguments but 1 was given",
     "output_type": "error",
     "traceback": [
      "\u001b[1;31m---------------------------------------------------------------------------\u001b[0m",
      "\u001b[1;31mTypeError\u001b[0m                                 Traceback (most recent call last)",
      "Cell \u001b[1;32mIn[8], line 1\u001b[0m\n\u001b[1;32m----> 1\u001b[0m Bhavik\u001b[38;5;241m.\u001b[39mvision()\n",
      "\u001b[1;31mTypeError\u001b[0m: Human.vision() takes 0 positional arguments but 1 was given"
     ]
    }
   ],
   "source": [
    "Bhavik.vision()"
   ]
  },
  {
   "cell_type": "code",
   "execution_count": 13,
   "id": "2111f333-7825-4f93-bf18-414accab75a3",
   "metadata": {},
   "outputs": [
    {
     "data": {
      "text/plain": [
       "'STRING'"
      ]
     },
     "execution_count": 13,
     "metadata": {},
     "output_type": "execute_result"
    }
   ],
   "source": [
    "# L = [ 1 ,2 , 3 , 4 ]\n",
    "# L.append()\n",
    "\n",
    "S = \"STRING\"\n",
    "len(S)          # function\n",
    "\n",
    "S.upper()       # method"
   ]
  },
  {
   "cell_type": "code",
   "execution_count": null,
   "id": "de90a2dc-29a7-4cf2-91a5-9d885148f217",
   "metadata": {},
   "outputs": [],
   "source": [
    "# lets first understand thew below code \n",
    "\n",
    "# __init__  known as the constructor\n",
    "\n",
    "# in javascript we use to use -- This -- keyword \n",
    "# in python we use -- Self -- keyword\n",
    "\n",
    "# whenever we create any variable inside the class we have to create \n",
    "# that variable inside the constructor\n",
    "\n",
    "\n",
    "# class TradingStratergy:             ==========| -> Constructor   <--|\n",
    "#     def __init_(self , symbol , amount):   ---|   =================    |\n",
    "#         self.symbol = symbol                  |   1] Variables   -----|\n",
    "#         self.amount = amount               ---|   2] No need to call the \n",
    "#         self.position = 0            =========    constructor function.\n",
    "#                                                    |   \n",
    "# note: as soon as the object class is created ,     |\n",
    "# this below function will executed automatically  <=|\n",
    "#                                                    |\n",
    "#  |=================================================|\n",
    "#  |                                     \n",
    "#  |==  # def Buy (self , price , quantity ):       Benifits of why we use it ?\n",
    "#  |== #     pass                                   1] Config files\n",
    "#                                                   2] DB files\n",
    "#  |== # def Sell(self , price , quantity ):\n",
    "#  |== #     pass\n",
    "\n",
    "#  |== # def Status(self):\n",
    "#  |== #     pass\n"
   ]
  },
  {
   "cell_type": "code",
   "execution_count": null,
   "id": "133ea9b4-837f-4c28-bd1f-4bef21fa8a8c",
   "metadata": {},
   "outputs": [],
   "source": [
    "# Constructor \n",
    "# in short \n",
    "\n",
    "# God created a class of humans\n",
    "# God --> Humans   <------------------|\n",
    "#             |                       |\n",
    "# whenever a human is being born ,    |\n",
    "#  Object is created         |        |\n",
    "#                          Bhavik = Humans() \n",
    "#                                     |\n",
    "#               inside it we have constructor function \n",
    "#                                     |\n",
    "#                             def __init__()\n",
    "#                                     |    \n",
    "#                then you know what will happen no matter what you do, death\n",
    "#                so, god dosent want to give death to as humans can control  \n",
    "#                thats why he has build constructor function"
   ]
  },
  {
   "cell_type": "code",
   "execution_count": null,
   "id": "f37311ca-e10e-4b2a-92b8-3343e4a3476a",
   "metadata": {},
   "outputs": [],
   "source": [
    "#SELF:\n",
    "\n",
    "# Golden rule of OOP:\n",
    "# **** Very Very Very important \n",
    "\n",
    "# \"Only\" & \"Only\" \n",
    "#     \"OBJECT\"\n",
    "#  can access all the attributes & methods in a class\"\n",
    "\n",
    "# how to acceess \n",
    "# momentum = Trading Stratergy ( \"BTC\" , 0.1 )\n",
    "# SELF :- is momentum only\n"
   ]
  },
  {
   "cell_type": "code",
   "execution_count": 102,
   "id": "644c27f7-5495-4331-a6ef-2e47c61e0983",
   "metadata": {},
   "outputs": [],
   "source": [
    "\n",
    "\n",
    "\n",
    "\n",
    "class TradingStratergy:\n",
    "    def __init__(self , symbol , amount):\n",
    "        self.symbol = symbol\n",
    "        self.amount = amount\n",
    "        self.position = 0\n",
    "\n",
    "    def Buy (self , price , quantity ):\n",
    "        if self.amount >= price * quantity:\n",
    "            self.position += quantity\n",
    "            self.amount -= price*quantity\n",
    "            print(f\"sucessfully bought {quantity} shares of {self.symbol} at ${price}\")\n",
    "        else:\n",
    "            print(\"Not enough amount to proceed with the trade\")\n",
    "        \n",
    "    def Sell(self , price , quantity ):\n",
    "        if self.position >= quantity: \n",
    "            self.position -= quantity\n",
    "            self.amount += price*quantity\n",
    "            print(f\"sucessfully sold {quantity} shares of {self.symbol} at ${price}\")\n",
    "        else :\n",
    "            print(\"No Shares to Sell\")\n",
    "        \n",
    "    def Status(self):\n",
    "        print(f\"Current posititon {self.posititon} of {self.symbol} shares\")\n",
    "        print(f\"Current amount {self.amount} \")\n",
    "\n",
    "Momentum = TradingStratergy(\"BTC\",5000)\n",
    "\n"
   ]
  },
  {
   "cell_type": "code",
   "execution_count": 104,
   "id": "9c1b38aa-349a-4c4e-aee3-2a18110b94de",
   "metadata": {},
   "outputs": [
    {
     "name": "stdout",
     "output_type": "stream",
     "text": [
      "3\n",
      "2000\n",
      "Not enough amount to proceed with the trade\n"
     ]
    }
   ],
   "source": [
    "# Momentum.Buy(price , quantity)\n",
    "\n",
    "print(Momentum.position)\n",
    "print(Momentum.amount)\n",
    "Momentum.Buy(1000 , 3)"
   ]
  },
  {
   "cell_type": "code",
   "execution_count": 105,
   "id": "18deddc3-9a75-4121-aa65-11090a79a079",
   "metadata": {},
   "outputs": [
    {
     "name": "stdout",
     "output_type": "stream",
     "text": [
      "sucessfully sold 2 shares of BTC at $1000\n",
      "4000\n",
      "1\n"
     ]
    }
   ],
   "source": [
    "\n",
    "Momentum.Sell(1000 , 2)\n",
    "print(Momentum.amount)\n",
    "print(Momentum.position)"
   ]
  },
  {
   "cell_type": "code",
   "execution_count": 107,
   "id": "059ba836-6cfe-4d79-a018-0ab32b0baa45",
   "metadata": {},
   "outputs": [
    {
     "ename": "NameError",
     "evalue": "name 'self' is not defined",
     "output_type": "error",
     "traceback": [
      "\u001b[1;31m---------------------------------------------------------------------------\u001b[0m",
      "\u001b[1;31mNameError\u001b[0m                                 Traceback (most recent call last)",
      "Cell \u001b[1;32mIn[107], line 1\u001b[0m\n\u001b[1;32m----> 1\u001b[0m Momentum\u001b[38;5;241m.\u001b[39mStatus(\u001b[38;5;28mself\u001b[39m\u001b[38;5;241m.\u001b[39msymbol)\n",
      "\u001b[1;31mNameError\u001b[0m: name 'self' is not defined"
     ]
    }
   ],
   "source": [
    "Momentum.Status(self.symbol)"
   ]
  }
 ],
 "metadata": {
  "kernelspec": {
   "display_name": "Python [conda env:base] *",
   "language": "python",
   "name": "conda-base-py"
  },
  "language_info": {
   "codemirror_mode": {
    "name": "ipython",
    "version": 3
   },
   "file_extension": ".py",
   "mimetype": "text/x-python",
   "name": "python",
   "nbconvert_exporter": "python",
   "pygments_lexer": "ipython3",
   "version": "3.13.5"
  }
 },
 "nbformat": 4,
 "nbformat_minor": 5
}
