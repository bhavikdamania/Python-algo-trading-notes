{
 "cells": [
  {
   "cell_type": "code",
   "execution_count": 20,
   "id": "f7d183c4-577b-460a-97de-8b64695f4bf7",
   "metadata": {},
   "outputs": [
    {
     "name": "stdout",
     "output_type": "stream",
     "text": [
      "sell\n"
     ]
    }
   ],
   "source": [
    "# Nested Functions\n",
    "\n",
    "def trading_dec(price):\n",
    " def buy_dec():\n",
    "       return \"Buy\"\n",
    "     \n",
    " def sell_dec():\n",
    "       return \"sell\"\n",
    "     \n",
    " if price < 50:\n",
    "  return buy_dec()\n",
    " else:\n",
    "  return sell_dec()\n",
    "\n",
    "print(trading_dec(50))\n",
    "\n",
    "#if  price 40 buy \n",
    "#if  price 50 sell"
   ]
  },
  {
   "cell_type": "code",
   "execution_count": null,
   "id": "7ba4bb15-3682-41b6-bf90-11e482a9420c",
   "metadata": {},
   "outputs": [],
   "source": [
    "\n",
    "#Why are python functions considered first-class citizens ?\n",
    "\n",
    "# Fisrt Class Citizens\n",
    "\n",
    "# 1. Assignment to Variables\n",
    "# --> Functions can be assigned to variables\n",
    "\n",
    "# 2. Passing as Arguments\n",
    "# --> Functions can be passed as arguments to other functions.\n",
    "\n",
    "# 3. Returning from Functions:\n",
    "# --> Functions can return other functions\n",
    "\n",
    "# 4. Storing in Data Structures:\n",
    "# --> Functions can be stored in lists , dictionaries or tuples\n",
    "\n",
    "# 5. Function Attributes\n",
    "# --> Functions can have attributes to store metadata or confiquaration options \n",
    "\n",
    "#   Why this is useful\n",
    "#   1] Higher-Order Functions \n",
    "#   2] Callbacks and Event Handlers\n",
    "#   3] Functional programming\n",
    "#   4] Dynamic Behavior\n",
    "\n"
   ]
  },
  {
   "cell_type": "code",
   "execution_count": 22,
   "id": "07082aed-446d-4cd2-b5f7-ed5cd1ca75e2",
   "metadata": {
    "scrolled": true
   },
   "outputs": [
    {
     "name": "stdout",
     "output_type": "stream",
     "text": [
      "<class 'function'>\n",
      "2575222351616\n"
     ]
    }
   ],
   "source": [
    "\n",
    "# so we have discussed in python { everything is object }\n",
    "\n",
    "# functions are 1st class citizens\n",
    "\n",
    "#type & ID\n",
    "\n",
    "\n",
    "def trading_logs():\n",
    "    pass\n",
    "print(type(trading_logs))  # <class 'function'>\n",
    "\n",
    "print(id(trading_logs))    # 2575222351616\n"
   ]
  },
  {
   "cell_type": "code",
   "execution_count": 24,
   "id": "dac511d8-78ae-40f3-8367-763b2685f5ef",
   "metadata": {},
   "outputs": [
    {
     "data": {
      "text/plain": [
       "3"
      ]
     },
     "execution_count": 24,
     "metadata": {},
     "output_type": "execute_result"
    }
   ],
   "source": [
    "\n",
    "# Re_assign\n",
    "\n",
    "def trading_logs( price1 , price2 ):\n",
    "    return price1 + price2\n",
    "\n",
    "sum_prices = trading_logs(1 , 2)\n",
    "\n",
    "sum_prices"
   ]
  },
  {
   "cell_type": "code",
   "execution_count": 32,
   "id": "a629cc63-1719-4cca-8d49-d557db40c55e",
   "metadata": {},
   "outputs": [
    {
     "name": "stdout",
     "output_type": "stream",
     "text": [
      "Analyzing a function deletion\n"
     ]
    },
    {
     "ename": "NameError",
     "evalue": "name 'trading_logs' is not defined",
     "output_type": "error",
     "traceback": [
      "\u001b[1;31m---------------------------------------------------------------------------\u001b[0m",
      "\u001b[1;31mNameError\u001b[0m                                 Traceback (most recent call last)",
      "Cell \u001b[1;32mIn[32], line 17\u001b[0m\n\u001b[0;32m      8\u001b[0m \u001b[38;5;66;03m# del trading_logs()       # so we cannot delete a function with function call\u001b[39;00m\n\u001b[0;32m      9\u001b[0m \u001b[38;5;66;03m#    del trading_logs()\u001b[39;00m\n\u001b[0;32m     10\u001b[0m \u001b[38;5;66;03m#       ^\u001b[39;00m\n\u001b[0;32m     11\u001b[0m \u001b[38;5;66;03m# SyntaxError: cannot delete function call\u001b[39;00m\n\u001b[0;32m     12\u001b[0m \n\u001b[0;32m     13\u001b[0m \u001b[38;5;66;03m# but we can delete it by removing parantheses removing ()\u001b[39;00m\n\u001b[0;32m     15\u001b[0m \u001b[38;5;28;01mdel\u001b[39;00m trading_logs\n\u001b[1;32m---> 17\u001b[0m \u001b[38;5;28mprint\u001b[39m(trading_logs())\n",
      "\u001b[1;31mNameError\u001b[0m: name 'trading_logs' is not defined"
     ]
    }
   ],
   "source": [
    "\n",
    "#Deleting a Function\n",
    "\n",
    "def trading_logs():\n",
    "    return \"Analyzing a function deletion\"\n",
    "\n",
    "print(trading_logs())\n",
    "\n",
    "# del trading_logs()       # so we cannot delete a function with function call\n",
    "#    del trading_logs()\n",
    "#       ^\n",
    "# SyntaxError: cannot delete function call\n",
    "\n",
    "# but we can delete it by removing parantheses removing ()\n",
    "\n",
    "del trading_logs\n",
    "\n",
    "print(trading_logs())"
   ]
  },
  {
   "cell_type": "code",
   "execution_count": 34,
   "id": "df15d3ba-327a-4df6-a2e5-2417ee447a39",
   "metadata": {},
   "outputs": [
    {
     "data": {
      "text/plain": [
       "'Sell BTC'"
      ]
     },
     "execution_count": 34,
     "metadata": {},
     "output_type": "execute_result"
    }
   ],
   "source": [
    "\n",
    "# storing\n",
    "\n",
    "def buy_stock(stock):\n",
    "    return f\"Buy {stock}\"\n",
    "\n",
    "\n",
    "def sell_stock(stock):\n",
    "    return f\"Sell {stock}\"\n",
    "\n",
    "actions = { \"buy\" : buy_stock , \"sell\" : sell_stock }\n",
    "\n",
    "actions[\"sell\"](\"BTC\")"
   ]
  },
  {
   "cell_type": "code",
   "execution_count": 69,
   "id": "00feeadb-07e1-4184-b77f-924034852ca3",
   "metadata": {},
   "outputs": [
    {
     "name": "stdout",
     "output_type": "stream",
     "text": [
      "Mean Reversion Strategy\n"
     ]
    }
   ],
   "source": [
    "\n",
    "#returning functions\n",
    "\n",
    "def strategy_selected(strategy_name):\n",
    "\n",
    "    def momentum_strategy(): \n",
    "        return \"Momentum Strategy\"\n",
    "    def mean_reversion_strategy():\n",
    "        return \"Mean Reversion Strategy\"\n",
    "\n",
    "    if strategy_name == \"momentum\":\n",
    "     return momentum_strategy\n",
    "    else:\n",
    "     return mean_reversion_strategy\n",
    "\n",
    "\n",
    "strategy = strategy_selected(\"momentm\")\n",
    "    \n",
    "print(strategy())\n",
    "    "
   ]
  },
  {
   "cell_type": "code",
   "execution_count": 73,
   "id": "afcc5e95-2114-4915-bee6-2860aef1a13b",
   "metadata": {},
   "outputs": [
    {
     "name": "stdout",
     "output_type": "stream",
     "text": [
      "35.0\n"
     ]
    }
   ],
   "source": [
    "\n",
    "#function as argument\n",
    "\n",
    "def moving_average_strategy(price):\n",
    "    return sum(price)/len(price)\n",
    "\n",
    "def execute_strategy( strategy_func , price ):\n",
    "    return strategy_func(price)\n",
    "\n",
    "price = [ 10 , 20 , 30 , 40 , 50 , 60 ]\n",
    "\n",
    "print(execute_strategy(moving_average_strategy , price))"
   ]
  },
  {
   "cell_type": "code",
   "execution_count": null,
   "id": "102fb038-a9fc-47fd-bc13-20ad6b62528a",
   "metadata": {},
   "outputs": [],
   "source": [
    "\n",
    "# Benifits of using a function\n",
    "\n",
    "# Code modularity : Breaking down code into smaller functions makes it easier to manage and understand\n",
    "# Code Readability : Clearer and more understandable code.\n",
    "# Code Reusability : Functions can be used across different parts of program \n"
   ]
  },
  {
   "cell_type": "code",
   "execution_count": null,
   "id": "7bd57484-f827-4341-bea0-97a6d93386ce",
   "metadata": {},
   "outputs": [],
   "source": [
    "\n",
    "\n",
    "# Lamda Function\n",
    "# A lamda function is a small anonymous function \n",
    "# A lamda function can take any number of arguments, but can only have one expression\n",
    "\n",
    "\n",
    "# Lamba keyword                                             # parameters\n",
    "# Creates the lamba expressions                 # One or more parameters are supported.\n",
    "                |                               # Must be seperated by a comma ( , ) and\n",
    "                |        |====================  # no parantheses\n",
    "                |        |\n",
    "              lambda   a , b : a + b\n",
    "                             |     |   \n",
    "                        # colon  # Expression \n",
    "                                 # Must be a single valid python\n",
    "                                 # expression\n",
    "\n",
    "# *Keypoints\n",
    "\n",
    "# 1] anonymous : dont need a name \n",
    "# 2] single Expresiion : a + - * b \n",
    "# 3] Inline uses : Use and throw \n",
    "# 4] Used with HOF( Higher Order Function ) : Map , Reduce , Filter , Sorted\n",
    "\n"
   ]
  },
  {
   "cell_type": "code",
   "execution_count": null,
   "id": "e3fb43dd-6bc4-4866-aedc-d473188771f3",
   "metadata": {},
   "outputs": [],
   "source": [
    "\n",
    "# lamda functions vs normal functions\n",
    "\n",
    "# Difference between lambda vs normal functions\n",
    "# 1] No name\n",
    "# 2] lambda has no return value ( infact , returns a function )\n",
    "# 3] lambda is written in 1 line\n",
    "# 4] not reusable\n",
    "\n",
    "# Then why use lambda functions?\n",
    "# They are used with HOF\n"
   ]
  },
  {
   "cell_type": "code",
   "execution_count": 20,
   "id": "417a4303-ec9f-4d33-ab5c-a1d3ec7bfb38",
   "metadata": {},
   "outputs": [
    {
     "data": {
      "text/plain": [
       "6.5"
      ]
     },
     "execution_count": 20,
     "metadata": {},
     "output_type": "execute_result"
    }
   ],
   "source": [
    "\n",
    "# lambda functions to calculate the moving average of the last two price\n",
    "\n",
    "# moving Average\n",
    "\n",
    "def moving_average( prices , window ):\n",
    "    sma = (sum(prices[-window :]))/window\n",
    "    return sma\n",
    "\n",
    "prices = [1,2,3,4,5,6,7,8]\n",
    "moving_average(prices , 4)"
   ]
  },
  {
   "cell_type": "code",
   "execution_count": 31,
   "id": "f521197b-b267-4b2d-ad9b-3b5b97edfc13",
   "metadata": {},
   "outputs": [
    {
     "name": "stdout",
     "output_type": "stream",
     "text": [
      "6.5\n"
     ]
    }
   ],
   "source": [
    "# now lets defiena function with lambda with one line of code\n",
    "\n",
    "prices = [1,2,3,4,5,6,7,8]\n",
    "moving_average = lambda prices , window : sum(prices[-4:])/window\n",
    "print(moving_average(prices , 4))\n"
   ]
  },
  {
   "cell_type": "code",
   "execution_count": 52,
   "id": "d7e421a1-1e11-4847-90f8-592938288845",
   "metadata": {},
   "outputs": [
    {
     "data": {
      "text/plain": [
       "[4, 9, 16, 25, 36, 49]"
      ]
     },
     "execution_count": 52,
     "metadata": {},
     "output_type": "execute_result"
    }
   ],
   "source": [
    "# MAP\n",
    "\n",
    "# How do you use the map function with a lambda function ?\n",
    "\n",
    "# 1] using map to calculate the square of a list of numbers (e.g , price changes)\n",
    "import math\n",
    "\n",
    "price = [ 2 , 3 , 4 , -5 , -6 , -7 ]\n",
    "# list(map(lambda x:x**2,price))\n",
    "\n",
    "list(map(lambda x:x**2,price))\n"
   ]
  },
  {
   "cell_type": "code",
   "execution_count": 62,
   "id": "9b9c6eb9-54c9-4ff8-a88e-a45025e8c86a",
   "metadata": {},
   "outputs": [
    {
     "data": {
      "text/plain": [
       "['High', 'High', 'High', 'Low', 'Low', 'Low']"
      ]
     },
     "execution_count": 62,
     "metadata": {},
     "output_type": "execute_result"
    }
   ],
   "source": [
    "\n",
    "# 2] using map to label prices as \"high\" or \"low\"\n",
    "\n",
    "price = [ 200 , 300 , 400 , -500 , -600 , -700 ]\n",
    "\n",
    "list(map(lambda x : \"High\" if x >= 200 else \"Low\" , price))"
   ]
  },
  {
   "cell_type": "code",
   "execution_count": 64,
   "id": "1d773345-c4c2-49c5-9216-b11f9a49a593",
   "metadata": {},
   "outputs": [
    {
     "data": {
      "text/plain": [
       "['Apple', 'Bitcoin']"
      ]
     },
     "execution_count": 64,
     "metadata": {},
     "output_type": "execute_result"
    }
   ],
   "source": [
    "\n",
    "# 3] Fetch names from a list of stock information dictionaries\n",
    "\n",
    "stocks = [{\"symbol\":\"AAPL\" , \"name\" : \"Apple\"},{\"symbol\":\"BTC\" , \"name\":\"Bitcoin\"}]\n",
    "list(map(lambda x : x[\"name\"],stocks))"
   ]
  },
  {
   "cell_type": "code",
   "execution_count": 69,
   "id": "3492717a-bbb1-43fe-9d97-18c44da1b419",
   "metadata": {},
   "outputs": [
    {
     "data": {
      "text/plain": [
       "['Apple', 'Amazon']"
      ]
     },
     "execution_count": 69,
     "metadata": {},
     "output_type": "execute_result"
    }
   ],
   "source": [
    "\n",
    "# How do you use a filter function with a lambda function ?\n",
    "\n",
    "# Filter\n",
    "\n",
    "# Filter prices greater then 100\n",
    "\n",
    "prices = [50 , 60 , 70 , 100 , 110 , 120 ]\n",
    "list(filter(lambda x : x > 100 , prices ))\n",
    "\n",
    "\n",
    "# filter stocks starting with \"A\"\n",
    "\n",
    "stocks = [ \"Apple\" , \"Microsoft\" , \"Amazon\" , \"Meta\" ]\n",
    "\n",
    "list(filter(lambda x : x.startswith(\"A\"),stocks))"
   ]
  },
  {
   "cell_type": "code",
   "execution_count": 88,
   "id": "ec47088a-39b8-47db-ba71-bbbde02aa63b",
   "metadata": {},
   "outputs": [
    {
     "data": {
      "text/plain": [
       "1"
      ]
     },
     "execution_count": 88,
     "metadata": {},
     "output_type": "execute_result"
    }
   ],
   "source": [
    "\n",
    "# How do you use the reduce function with a lambda function ?\n",
    "\n",
    "# Reduce\n",
    "\n",
    "from functools import reduce\n",
    "\n",
    "numbers = [2,3,4,5,6,7,8,9,10,1]\n",
    "\n",
    "#sum\n",
    "reduce(lambda x,y : x+y , numbers)\n",
    "\n",
    "#or\n",
    "\n",
    "reduce(lambda x,y : x if x < y else y , numbers)"
   ]
  }
 ],
 "metadata": {
  "kernelspec": {
   "display_name": "Python [conda env:base] *",
   "language": "python",
   "name": "conda-base-py"
  },
  "language_info": {
   "codemirror_mode": {
    "name": "ipython",
    "version": 3
   },
   "file_extension": ".py",
   "mimetype": "text/x-python",
   "name": "python",
   "nbconvert_exporter": "python",
   "pygments_lexer": "ipython3",
   "version": "3.13.5"
  }
 },
 "nbformat": 4,
 "nbformat_minor": 5
}
