{
 "cells": [
  {
   "cell_type": "code",
   "execution_count": 1,
   "id": "8d749dbf-6a1c-4a53-9bb2-16a5605492d6",
   "metadata": {},
   "outputs": [],
   "source": [
    "# What is Encapsulation ?\n",
    "\n",
    "# Encapsulation is a key principle of object-oriented programming ( OOP ) that bundles data\n",
    "# ( Variables ) and methods ( functions ) operating on the data into a single unit or class.\n",
    "# it restricts direct access to some components , preventing accidental interference and misuse\n",
    "\n",
    "# key aspects & Benifits of encapsulation include:\n",
    "\n",
    "# 1] Data Hiding : Internal details are hidden from the ouside world using access modifiers\n",
    "#                  ( private , protected , public )\n",
    "\n",
    "# 2] Public interface : Provides controlled access to data through well-defined public methods.\n",
    "\n",
    "# 3] Security and Integrity : Ensures data integrity by allowing only authorized methods to modify\n",
    "#                              the data\n",
    "\n",
    "# 4] **Modularity** :makes objects self contained , simplifying understanding maintainence, \n",
    "#                     and debugging\n",
    "\n",
    "# 5] Abstraction : Hides internal complexitites , presenting a simplier interference to the user.\n",
    "\n",
    "# 6] Maintainbility : He system is easier to maintain and extend since each component is self-\n",
    "#                     contained and interacts through wel-defined interfaces\n"
   ]
  },
  {
   "cell_type": "code",
   "execution_count": 2,
   "id": "ec87419e-b9cd-4156-80b4-98c258bd4cd5",
   "metadata": {},
   "outputs": [],
   "source": [
    "\n",
    "# Instance Variable\n",
    "\n",
    "class TradingBot:\n",
    "    def __init__(self , name , initial_cash):\n",
    "        self.name = name            # name of trading bot\n",
    "        self.cash = initial_cash    # Starting cash in USD\n",
    "\n"
   ]
  },
  {
   "cell_type": "code",
   "execution_count": 6,
   "id": "67bff2ab-440e-4595-9db5-139dc25f31fb",
   "metadata": {},
   "outputs": [
    {
     "data": {
      "text/plain": [
       "1340"
      ]
     },
     "execution_count": 6,
     "metadata": {},
     "output_type": "execute_result"
    }
   ],
   "source": [
    "#For a single class we have multiple instance variable\n",
    "\n",
    "bot1 = TradingBot( \"AAPL\" , 1000 )\n",
    "\n",
    "# 1 class\n",
    "\n",
    "bot1.name     # AAPL  \n",
    "bot1.cash     # 1000\n",
    "\n",
    "bot2 = TradingBot( \"MSFT\" , 1340 )\n",
    "\n",
    "# 2 class\n",
    "\n",
    "bot2.name     # MSFT\n",
    "bot2.cash     # 1340\n",
    "\n",
    "# for normal variable we can hold single variable\n",
    "\n",
    "# for class variable we can hold multiple variable\n"
   ]
  },
  {
   "cell_type": "code",
   "execution_count": 9,
   "id": "22d7eb0a-bfca-4634-a2ad-cb2d8fd539f4",
   "metadata": {},
   "outputs": [],
   "source": [
    "# How do you visualize an instance variable in python tutor?\n",
    "\n",
    "# 1class TradingBot:\n",
    "# 2\t    def __init__(self , name , initial_cash):\n",
    "# 3\t        self.name = name            # name of trading bot\n",
    "# 4\t        self.cash = initial_cash    # Starting cash in USD\n",
    "# 5\t        \n",
    "# 6\tbot1 = TradingBot( \"AAPL\" , 1000 )\n",
    "# 7\t\n",
    "# 8\tbot2 = TradingBot( \"MSFT\" , 1340 )\n",
    "# 9\t\n",
    "# 10\tprint(bot1.name)\n",
    "# 11\tprint(bot1.cash) \n",
    "# 12\t\n",
    "# 13\tprint(bot2.name)\n",
    "# 14\tprint(bot2.cash)\n",
    "\n",
    "# paste thois code in python tutor.com\n"
   ]
  },
  {
   "cell_type": "code",
   "execution_count": 108,
   "id": "4144f870-94eb-442a-8880-b467aeda3832",
   "metadata": {},
   "outputs": [],
   "source": [
    "\n",
    "# What are the examples of encapsulation ?\n",
    "\n",
    "# Encapsulation Example\n",
    "\n",
    "class AutoTradingBot:\n",
    "    def __init__(self , thresold ):\n",
    "        self.__thresold = thresold\n",
    "        self.__position = None\n",
    "        self.__price_data = []\n",
    "\n",
    "    def fetch_market_data(self):\n",
    "        self.__price_data = [6180 , 6190 , 6110 , 6110 , 6120 , 6140] #  user_price_data\n",
    "        return self.__price_data\n",
    "        print(\"Market data has been fetched\")\n",
    "        \n",
    "    def latest_price(self):\n",
    "        if self.__price_data:\n",
    "            return self.__price_data[-1]\n",
    "        else:\n",
    "             None\n",
    "            \n",
    "    def evaluate_price(self):\n",
    "        latest_price = self.latest_price()\n",
    "        if latest_price < self.__thresold:\n",
    "            return \"SELL\" \n",
    "        elif latest_price > self.__thresold:\n",
    "            return \"BUY\"\n",
    "        else:\n",
    "            return \"Hold\"\n",
    "            \n",
    "    def execute_trade(self , action):\n",
    "        if self.evaluate_price() == \"SELL\" and self.__position != \"SHORT\":\n",
    "            self.__position = \"SHORT\"\n",
    "            return \"SELL trade has been executed and current position is 'SHORT'\"\n",
    "    \n",
    "        elif self.evaluate_price() == \"BUY\" and self.__position != \"LONG\":\n",
    "            self.__position = \"LONG\"\n",
    "            return \"BUY trade has been executed and current position is 'LONG'\"\n",
    "    \n",
    "        elif self.evaluate_price() == \"HOLD\":\n",
    "            self.__position = \"HOLD\"\n",
    "            return \"The trade has been on HOLD and current position is 'HOLD'\"\n",
    "\n",
    "    def run(self):\n",
    "        pass\n",
    "    "
   ]
  },
  {
   "cell_type": "code",
   "execution_count": 109,
   "id": "a1ba9f3b-9c57-4570-b14b-101afe8dc3b1",
   "metadata": {},
   "outputs": [
    {
     "data": {
      "text/plain": [
       "'SELL'"
      ]
     },
     "execution_count": 109,
     "metadata": {},
     "output_type": "execute_result"
    }
   ],
   "source": [
    "AutoBot1 = AutoTradingBot(6890)\n",
    "\n",
    "# how to break data from inside\n",
    "\n",
    "AutoBot2 = AutoTradingBot(69170)\n",
    "u_input_data = [6180 , 6190 , 6110 , 6110 , 6120 , \"6140\"]\n",
    "AutoBot2.fetch_market_data()\n",
    "AutoBot2.latest_price()\n",
    "AutoBot2.evaluate_price()\n",
    "#AutoBot2.execute_trade()"
   ]
  },
  {
   "cell_type": "code",
   "execution_count": 110,
   "id": "ae786133-6a78-4318-8de3-ae7b430c8393",
   "metadata": {},
   "outputs": [
    {
     "name": "stdout",
     "output_type": "stream",
     "text": [
      "[6180, 6190, 6110, 6110, 6120, 6140]\n",
      "6140\n",
      "SELL\n"
     ]
    }
   ],
   "source": [
    "# another breaking code example\n",
    "\n",
    "AutoBot3 = AutoTradingBot(6919)\n",
    "print(AutoBot3.fetch_market_data())\n",
    "print(AutoBot3.latest_price())\n",
    "print(AutoBot3.evaluate_price())"
   ]
  },
  {
   "cell_type": "code",
   "execution_count": null,
   "id": "c0c5d80b-570a-4e82-8578-42e53bf57b60",
   "metadata": {},
   "outputs": [],
   "source": [
    "\n",
    "# Now how to hide data so no one can make changes \n",
    "# for hide add __ in __thresold  , __position , __price_data\n"
   ]
  },
  {
   "cell_type": "code",
   "execution_count": 112,
   "id": "9dbadf5f-9509-4941-a671-c59d7a382418",
   "metadata": {},
   "outputs": [
    {
     "ename": "AttributeError",
     "evalue": "'AutoTradingBot' object has no attribute '__thresold'",
     "output_type": "error",
     "traceback": [
      "\u001b[1;31m---------------------------------------------------------------------------\u001b[0m",
      "\u001b[1;31mAttributeError\u001b[0m                            Traceback (most recent call last)",
      "Cell \u001b[1;32mIn[112], line 1\u001b[0m\n\u001b[1;32m----> 1\u001b[0m AutoBot1\u001b[38;5;241m.\u001b[39m__thresold\n\u001b[0;32m      2\u001b[0m AutoBot1\u001b[38;5;241m.\u001b[39m__position\n\u001b[0;32m      3\u001b[0m AutoBot1\u001b[38;5;241m.\u001b[39m__price_data\n",
      "\u001b[1;31mAttributeError\u001b[0m: 'AutoTradingBot' object has no attribute '__thresold'"
     ]
    }
   ],
   "source": [
    "# This is how we hide our data\n",
    "\n",
    "AutoBot1.__thresold\n",
    "AutoBot1.__position\n",
    "AutoBot1.__price_data"
   ]
  },
  {
   "cell_type": "code",
   "execution_count": 111,
   "id": "6636cdfc-181b-4b91-98c4-a7ef5442c731",
   "metadata": {},
   "outputs": [
    {
     "name": "stdout",
     "output_type": "stream",
     "text": [
      "[6180, 6190, 6110, 6110, 6120, 6140]\n",
      "6140\n",
      "SELL\n",
      "SELL trade has been executed and current position is 'SHORT'\n"
     ]
    }
   ],
   "source": [
    "\n",
    "print(AutoBot1.fetch_market_data())\n",
    "print(AutoBot1.latest_price())\n",
    "action = print(AutoBot1.evaluate_price())\n",
    "print(AutoBot1.execute_trade(action))\n"
   ]
  },
  {
   "cell_type": "code",
   "execution_count": null,
   "id": "d425d80a-d5ac-47a9-a3de-439390174a7e",
   "metadata": {},
   "outputs": [],
   "source": [
    "\n",
    "# What are Reference Variables ?\n",
    "\n",
    "# 1] Reference Variables Hold the objects\n",
    "# 2] We can create without reference variable as well\n",
    "# 3] An object can have multiple reference variable\n",
    "# 4] Assigning a new reference viriable to an existing \n",
    "#    object does not create a new object\n",
    "\n"
   ]
  },
  {
   "cell_type": "code",
   "execution_count": 118,
   "id": "0d843969-024d-4b13-889b-4eb48661dc81",
   "metadata": {},
   "outputs": [],
   "source": [
    "\n",
    "class TradingStratergy:\n",
    "    def __init__(self , symbol , amount ):\n",
    "        self.symbol = symbol\n",
    "        self.amount = amount\n",
    "        self.position = 0\n",
    "\n",
    "    def Buy(self , price , quantity ):\n",
    "        pass\n",
    "\n",
    "    def Sell(self , price , quantity ):\n",
    "        pass\n",
    "\n",
    "    def status(self):\n",
    "        pass"
   ]
  },
  {
   "cell_type": "code",
   "execution_count": 119,
   "id": "ef93f6c9-04fc-4641-9b6e-f4d904becaed",
   "metadata": {},
   "outputs": [],
   "source": [
    "\n",
    "#whever we write a tradingStratergy Object will be created with memory address\n",
    "# to store a memory address we have to assign a variable \n",
    "\n",
    "trade1 = TradingStratergy(\"BTC\" , 1.2 )\n",
    "\n",
    "# this is just A VARIABLE to hold refernece/ it is not always mandatory to write\n",
    "# if you dont write this variable memory address of object will be stored somewhere else "
   ]
  },
  {
   "cell_type": "code",
   "execution_count": 120,
   "id": "66f0b46d-63ea-4a2d-acaf-3fefd10ba237",
   "metadata": {},
   "outputs": [],
   "source": [
    "# now another example \n",
    "# an object can have multiple variables\n",
    "# so as can see the trade1 and trade2 are diferent variables as \n",
    "# also they both holds different memory addresses \n",
    "\n",
    "trade2 = TradingStratergy(\"ETH\" , 6 )\n",
    "\n",
    "# assignning a new variable to an existing object , dosent create a new object\n",
    "\n",
    "trade3 = trade1 \n"
   ]
  },
  {
   "cell_type": "code",
   "execution_count": 121,
   "id": "18370d27-707a-454e-b15e-b7b0e451610a",
   "metadata": {},
   "outputs": [],
   "source": [
    "# hands on lab \n",
    "\n",
    "class Trader:\n",
    "    def __init__(self , name_input , trading_style_input):\n",
    "        self.name = name_input\n",
    "        self.trading_style = trading_style_input\n",
    "\n",
    "    def greet(self):\n",
    "        if self.trading_style == \"day trading\":\n",
    "            print(\"good day for trading ,\", self.name)\n",
    "        elif self.trading_style == \"swing trading\":\n",
    "            print(\"Hope you can catch the swings ,\" , self.name)\n",
    "        elif self.trading_style == \"scalping\":\n",
    "            print(\"Keep it fast and precise ,\", self.name)\n",
    "        else:\n",
    "            print(\"Happy trading\" , self.name)"
   ]
  },
  {
   "cell_type": "code",
   "execution_count": 130,
   "id": "d5791ca6-3f99-47b6-bd17-a8794985efa0",
   "metadata": {},
   "outputs": [
    {
     "name": "stdout",
     "output_type": "stream",
     "text": [
      "1745193360496\n",
      "1745193360496\n",
      "1745188975376\n",
      "1745188975376\n"
     ]
    }
   ],
   "source": [
    "# as you can see object is created in order to hold thaT we have to give refernece variable\n",
    "\n",
    "trader1 = Trader(\"BHAVIK\" , \"scalping\")  # <__main__.Trader at 0x196555a38c0>\n",
    "trader2 = Trader(\"KULDEEP\" , \"scalping\")\n",
    "\n",
    "new_trader1 = trader1\n",
    "new_trader2 = trader2\n",
    "\n",
    "print(id(trader1))\n",
    "print(id(new_trader1))\n",
    "\n",
    "print(id(trader2))\n",
    "print(id(new_trader2))\n",
    "\n",
    "# creating a new variable and assigning an existing vatriable does not change its address"
   ]
  },
  {
   "cell_type": "code",
   "execution_count": 178,
   "id": "2e16f79c-53e0-4a6d-8438-294ef0447eb7",
   "metadata": {},
   "outputs": [],
   "source": [
    "\n",
    "# Pass by reference\n",
    "\n",
    "\n",
    "class Trader:\n",
    "    def __init__(self , name_input , trading_style_input):\n",
    "        self.name = name_input\n",
    "        self.trading_style = trading_style_input\n",
    "\n",
    "    def greet(a):\n",
    "        if a.trading_style == \"day trading\":\n",
    "            print(\"good day for trading ,\", a.name)\n",
    "        elif a.trading_style == \"swing trading\":\n",
    "            print(\"Hope you can catch the swings ,\" , a.name)\n",
    "        elif a.trading_style == \"scalping\":\n",
    "            print(\"Keep it fast and precise ,\", a.name)\n",
    "        else:\n",
    "            print(\"Happy trading\" , a.name)\n",
    "        b = Trader(\"Kuldeep\" , \"day trading\")\n",
    "        b.name = \"Sandeep\"       # so name can be changes / as we can say\n",
    "        print(b.name)            # Objects created are mutable \n",
    "        return b\n"
   ]
  },
  {
   "cell_type": "code",
   "execution_count": 181,
   "id": "4e5530b3-046b-4fd3-8ab7-4d1ec40f0c72",
   "metadata": {},
   "outputs": [
    {
     "name": "stdout",
     "output_type": "stream",
     "text": [
      "Keep it fast and precise , Bhavik\n",
      "Sandeep\n",
      "Bhavik\n",
      "Sandeep\n"
     ]
    }
   ],
   "source": [
    "a = Trader(\"Bhavik\",\"scalping\")\n",
    "c = a.greet()\n",
    "print(a.name)\n",
    "print(c.name)"
   ]
  }
 ],
 "metadata": {
  "kernelspec": {
   "display_name": "Python [conda env:base] *",
   "language": "python",
   "name": "conda-base-py"
  },
  "language_info": {
   "codemirror_mode": {
    "name": "ipython",
    "version": 3
   },
   "file_extension": ".py",
   "mimetype": "text/x-python",
   "name": "python",
   "nbconvert_exporter": "python",
   "pygments_lexer": "ipython3",
   "version": "3.13.5"
  }
 },
 "nbformat": 4,
 "nbformat_minor": 5
}
