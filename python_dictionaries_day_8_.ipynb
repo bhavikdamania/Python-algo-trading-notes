{
 "cells": [
  {
   "cell_type": "code",
   "execution_count": null,
   "id": "33434735-b594-4916-a678-f91e12e4e789",
   "metadata": {},
   "outputs": [],
   "source": [
    "\n",
    "# What is Dictionary ?\n",
    "\n",
    "# Dictionary in python is a collection of keys values used to store\n",
    "#   data values like a map\n",
    "\n",
    "# Which unlike other data types which hold only a single values as an element\n",
    "\n",
    "# In some languages it is known as map or assosiative array\n",
    "\n",
    "#     variable                       Keys      Value\n",
    "#       |                              |         |\n",
    "# stock_prices = {\"AAPL\" : 145.90 , \"GOOGL\" : 2133.54 , \"TSLA\" : 299.0 }\n",
    "#                      |                  |                  |\n",
    "#                    1 pair             2 pair             3 pair\n",
    "\n",
    "# Characteristics\n",
    "\n",
    "# * Mutable\n",
    "# * Indexing can't be no meaning\n",
    "# * Keys can't be duplicated\n",
    "# * Keys can't be mutable items\n",
    "\n",
    "# for instance \n",
    "\n",
    "# in list , tuples , sets                  in Dictionary we hold\n",
    "# we hold value [1 , 2 , 3 ]               value in { key : value }\n",
    "\n",
    "# we represent a dictionary using {} - Curly braces\n",
    "# in              sets also using {} - Curly braces\n",
    "\n",
    "# But in sets we can hold single values , and in Dictionary we hold multiple value\n"
   ]
  },
  {
   "cell_type": "code",
   "execution_count": 14,
   "id": "beb23339-ac58-459b-8ffe-837424651026",
   "metadata": {},
   "outputs": [
    {
     "data": {
      "text/plain": [
       "{'name': 'bhavik', (1, 2, 3): 2}"
      ]
     },
     "execution_count": 14,
     "metadata": {},
     "output_type": "execute_result"
    }
   ],
   "source": [
    "\n",
    "# Dictionary\n",
    "\n",
    "# empty dictionary\n",
    "d = {\"key\" : \"value\"}\n",
    "\n",
    "type(d)           # dict\n",
    "\n",
    "\n",
    "# 1D Dictionary\n",
    "\n",
    "stock_prices = {\"AAPL\" : 145.90 , \"GOOGL\" : 2133.54 , \"TSLA\" : 299.0 }\n",
    "\n",
    "stock_prices\n",
    "\n",
    "# With mixed keys\n",
    "\n",
    "d2 = {( 1 , 2 , 3 ) : 1 , \"hello\" : \"world\" }\n",
    "d2\n",
    "\n",
    "# 2D Dictionary  - >  Json\n",
    "\n",
    "stock_data = {\n",
    "   \"AAPL\" : {\n",
    "        \"price\" : 145.87 ,\n",
    "        \"volume\" : 3211.00,\n",
    "    },\n",
    "    \"GOOGL\" :{\n",
    "        \"price\" : 2345.87 ,\n",
    "        \"volume\" : 311.00,\n",
    "    },\n",
    "     \"TSLA\" :{\n",
    "         \"price\" : 675.87 ,\n",
    "         \"volume\" : 303.50,\n",
    "     }\n",
    "}\n",
    "\n",
    "\n",
    "stock_data\n",
    "\n",
    "\n",
    "# using sequence and dict function\n",
    "\n",
    "#dict()\n",
    "d4 = dict({('stock' , 'AAPL') , ('price' , 678.89) , ( 3 , 3 )})\n",
    "\n",
    "d4   # {'stock': 'AAPL', 'price': 678.89, 3: 3}\n",
    "\n",
    "\n",
    "# duplicate keys - > takes last value\n",
    "\n",
    "d5 = { 'name' : 'bhavik' , 'name': 'damania' }\n",
    "d5    # {'name': 'damania'} \n",
    "\n",
    "\n",
    "# mutable items as keys\n",
    "d6 = { 'name' : 'bhavik' , tuple([1 , 2 , 3 ]): 2 }\n",
    "d6\n"
   ]
  },
  {
   "cell_type": "code",
   "execution_count": 17,
   "id": "be5a4a2d-ca0b-4cb7-80a3-c0f0c86a500a",
   "metadata": {},
   "outputs": [
    {
     "name": "stdout",
     "output_type": "stream",
     "text": [
      "145.09\n"
     ]
    }
   ],
   "source": [
    "\n",
    "# Accesing items\n",
    "\n",
    "# []\n",
    "# get\n",
    "\n",
    "stock_data = { \"AAPL\" : 145.09 , \"GOOGL\" : 2731.23 , \"TSLA\" : 876.38 }\n",
    "print(stock_data[\"AAPL\"])     # acessing the price of AAPL\n",
    "\n"
   ]
  },
  {
   "cell_type": "code",
   "execution_count": 19,
   "id": "ae78d310-6289-4919-8b4f-fecc3fa05fae",
   "metadata": {},
   "outputs": [
    {
     "name": "stdout",
     "output_type": "stream",
     "text": [
      "{'AAPL': 145.09, 'GOOGL': 2731.23, 'TSLA': 876.38, 'MSFT': 299.35}\n"
     ]
    }
   ],
   "source": [
    "\n",
    "# Adding Key-value pair\n",
    "\n",
    "stock_data[\"MSFT\"] = 299.35\n",
    "print(stock_data)\n"
   ]
  },
  {
   "cell_type": "code",
   "execution_count": 23,
   "id": "2bc02b34-ab81-4fbb-b7aa-5f68c514a7fe",
   "metadata": {},
   "outputs": [
    {
     "name": "stdout",
     "output_type": "stream",
     "text": [
      "{'AAPL': 145.09, 'GOOGL': 2731.23}\n"
     ]
    }
   ],
   "source": [
    "\n",
    "# Remove key_value pair\n",
    "\n",
    "#pop()\n",
    "\n",
    "stock_data = { \"AAPL\" : 145.09 , \"GOOGL\" : 2731.23 , \"TSLA\" : 876.38 }\n",
    "\n",
    "stock_data.pop(\"TSLA\")  # remove tsla from the dictionary\n",
    "\n",
    "print(stock_data)       # {'AAPL': 145.09, 'GOOGL': 2731.23}\n"
   ]
  },
  {
   "cell_type": "code",
   "execution_count": 24,
   "id": "ec2a49da-7d73-46f6-8615-63f2e32d7d98",
   "metadata": {},
   "outputs": [
    {
     "data": {
      "text/plain": [
       "('TSLA', 876.38)"
      ]
     },
     "execution_count": 24,
     "metadata": {},
     "output_type": "execute_result"
    }
   ],
   "source": [
    "\n",
    "#popitem() -> Randomly removes any keyvalue pairs\n",
    "\n",
    "stock_data = { \"AAPL\" : 145.09 , \"GOOGL\" : 2731.23 , \"TSLA\" : 876.38 }\n",
    "\n",
    "stock_data.popitem()\n"
   ]
  },
  {
   "cell_type": "code",
   "execution_count": 26,
   "id": "7e707651-aede-495c-901f-baf47d12610f",
   "metadata": {},
   "outputs": [
    {
     "ename": "NameError",
     "evalue": "name 'stock_data' is not defined",
     "output_type": "error",
     "traceback": [
      "\u001b[1;31m---------------------------------------------------------------------------\u001b[0m",
      "\u001b[1;31mNameError\u001b[0m                                 Traceback (most recent call last)",
      "Cell \u001b[1;32mIn[26], line 7\u001b[0m\n\u001b[0;32m      3\u001b[0m stock_data \u001b[38;5;241m=\u001b[39m { \u001b[38;5;124m\"\u001b[39m\u001b[38;5;124mAAPL\u001b[39m\u001b[38;5;124m\"\u001b[39m : \u001b[38;5;241m145.09\u001b[39m , \u001b[38;5;124m\"\u001b[39m\u001b[38;5;124mGOOGL\u001b[39m\u001b[38;5;124m\"\u001b[39m : \u001b[38;5;241m2731.23\u001b[39m , \u001b[38;5;124m\"\u001b[39m\u001b[38;5;124mTSLA\u001b[39m\u001b[38;5;124m\"\u001b[39m : \u001b[38;5;241m876.38\u001b[39m }\n\u001b[0;32m      5\u001b[0m \u001b[38;5;28;01mdel\u001b[39;00m(stock_data)\n\u001b[1;32m----> 7\u001b[0m stock_data\n",
      "\u001b[1;31mNameError\u001b[0m: name 'stock_data' is not defined"
     ]
    }
   ],
   "source": [
    "\n",
    "# del\n",
    "\n",
    "stock_data = { \"AAPL\" : 145.09 , \"GOOGL\" : 2731.23 , \"TSLA\" : 876.38 }\n",
    "\n",
    "del(stock_data)\n",
    "\n",
    "stock_data"
   ]
  },
  {
   "cell_type": "code",
   "execution_count": 29,
   "id": "a77cf6b5-4d38-4af3-a3fd-18d66dcac791",
   "metadata": {},
   "outputs": [
    {
     "data": {
      "text/plain": [
       "{}"
      ]
     },
     "execution_count": 29,
     "metadata": {},
     "output_type": "execute_result"
    }
   ],
   "source": [
    "\n",
    "# clear()\n",
    "\n",
    "stock_data = { \"AAPL\" : 145.09 , \"GOOGL\" : 2731.23 , \"TSLA\" : 876.38 }\n",
    "\n",
    "stock_data.clear()\n",
    "\n",
    "stock_data"
   ]
  },
  {
   "cell_type": "code",
   "execution_count": 45,
   "id": "1cb4d09e-e6db-4a2f-8440-271001147f0a",
   "metadata": {},
   "outputs": [
    {
     "name": "stdout",
     "output_type": "stream",
     "text": [
      "('AAPL', 150.0)\n",
      "('GOOGL', 2731.23)\n",
      "('TSLA', 876.38)\n",
      "150.0\n",
      "Not Found\n"
     ]
    }
   ],
   "source": [
    "\n",
    "# How to edit key value pair from a Dictionary ?\n",
    "\n",
    "# if you want to update any key value\n",
    "\n",
    "stock_data = { \"AAPL\" : 145.09 , \"GOOGL\" : 2731.23 , \"TSLA\" : 876.38 }\n",
    "\n",
    "# Editing key-value pair\n",
    "\n",
    "stock_data[\"AAPL\"] = 150.00\n",
    "\n",
    "stock_data           # updating the prie of AAPL\n",
    "\n",
    "\n",
    "# Dictionary Opeartions\n",
    "\n",
    "# *Membership\n",
    "\n",
    "# print( \"AAPL\" in stock_data )    # True\n",
    "\n",
    "# if spelling is incorrect\n",
    "# print( \"AAAPL\" in stock_data )   # False\n",
    "\n",
    "\n",
    "\n",
    "# *Iteration\n",
    "\n",
    "for i in stock_data.items():      # ('AAPL', 150.0),('GOOGL', 2731.23),('TSLA', 876.38)\n",
    "    print(i)\n",
    "\n",
    "\n",
    "# for i in stock_data.values():   # 150.0 , 2731.23 , 876.38\n",
    "#     print(i)    \n",
    "\n",
    "# for i in stock_data.keys():  # AAPL GOOGL TSLA\n",
    "#    print(i)\n",
    "\n",
    "\n",
    "\n",
    "# *get()\n",
    "\n",
    "print(stock_data.get(\"AAPL\",\"Not Found\"))      # 150.0\n",
    "\n",
    "print(stock_data.get(\"AAAPL\",\"Not Found\"))     # Not Found"
   ]
  },
  {
   "cell_type": "code",
   "execution_count": 55,
   "id": "47475fb6-32f6-433e-ab71-068137c15a31",
   "metadata": {},
   "outputs": [
    {
     "data": {
      "text/plain": [
       "{'AAPL': 145.09,\n",
       " 'GOOGL': 2731.23,\n",
       " 'TSLA': 876.38,\n",
       " 'AMZN': 2121.2,\n",
       " 'MSFT': 2331.44}"
      ]
     },
     "execution_count": 55,
     "metadata": {},
     "output_type": "execute_result"
    }
   ],
   "source": [
    "\n",
    "# Dictionary Functions\n",
    "\n",
    "stock_data = { \"AAPL\" : 145.09 , \"GOOGL\" : 2731.23 , \"TSLA\" : 876.38 }\n",
    "\n",
    "# len / sorted\n",
    "\n",
    "len(stock_data)     # 3\n",
    "\n",
    "sorted(stock_data)  # ['AAPL', 'GOOGL', 'TSLA']\n",
    "\n",
    "\n",
    "# items / keys / values\n",
    "\n",
    "stock_data.items()\n",
    "\n",
    "stock_data.keys()\n",
    "\n",
    "stock_data.values()\n",
    "\n",
    "\n",
    "# update\n",
    "\n",
    "# stock_data.update({\"MSFT\":2290.0})                    # single value update\n",
    "\n",
    "stock_data.update({\"AMZN\":2121.2 , \"MSFT\" : 2331.44})   # multiple value update\n",
    "\n",
    "stock_data\n"
   ]
  },
  {
   "cell_type": "code",
   "execution_count": 61,
   "id": "fc3bc986-db9f-4d9a-81dc-72cc0765ed05",
   "metadata": {},
   "outputs": [
    {
     "data": {
      "text/plain": [
       "{1: 1, 2: 4, 3: 9, 4: 16, 5: 25, 6: 36, 7: 49, 8: 64, 9: 81, 10: 100}"
      ]
     },
     "execution_count": 61,
     "metadata": {},
     "output_type": "execute_result"
    }
   ],
   "source": [
    "\n",
    "# Dictionary Comprehension\n",
    "\n",
    "#{ key : value for vars in iterable }\n",
    "\n",
    "# print 1st 10 numbers and their squares\n",
    "\n",
    "{i:i**2 for i in range( 1 , 11) }\n"
   ]
  },
  {
   "cell_type": "code",
   "execution_count": 68,
   "id": "64bff906-c019-4c9d-b139-89ef9ba3cf41",
   "metadata": {},
   "outputs": [
    {
     "name": "stdout",
     "output_type": "stream",
     "text": [
      "{'AAPL': 15306.995, 'GOOGL': 288144.765, 'TSLA': 92458.09}\n"
     ]
    }
   ],
   "source": [
    "\n",
    "# using existing dict\n",
    "\n",
    "stock_data = { \"AAPL\" : 145.09 , \"GOOGL\" : 2731.23 , \"TSLA\" : 876.38 }\n",
    "\n",
    "stock_data = {symbol:price * 105.5 for symbol,price in stock_data.items()}\n",
    "\n",
    "print(stock_data)   # {'AAPL': 15306.995, 'GOOGL': 288144.765, 'TSLA': 92458.09}\n"
   ]
  },
  {
   "cell_type": "code",
   "execution_count": 71,
   "id": "2b61f585-76a4-4cb6-96f6-efa044b91cdc",
   "metadata": {},
   "outputs": [
    {
     "name": "stdout",
     "output_type": "stream",
     "text": [
      "{'AAPL': '145.09', 'GOGL': '2731.32', 'MSFT': '873.3'}\n"
     ]
    }
   ],
   "source": [
    "\n",
    "# using zip\n",
    "\n",
    "symbol = [\"AAPL\" , \"GOGL\" , \"MSFT\"]\n",
    "prices = [\"145.09\" , \"2731.32\",\"873.3\"]\n",
    "\n",
    "stock_data = {symbol:price for symbol, price in zip(symbol , prices)}\n",
    "\n",
    "print(stock_data)\n"
   ]
  },
  {
   "cell_type": "code",
   "execution_count": 72,
   "id": "3a2c91bb-2866-4726-a94d-075bb691df4e",
   "metadata": {},
   "outputs": [
    {
     "name": "stdout",
     "output_type": "stream",
     "text": [
      "{'GOOGL': 2731.23}\n"
     ]
    }
   ],
   "source": [
    "\n",
    "# using if condition\n",
    "\n",
    "stock_data = { \"AAPL\" : 145.09 , \"GOOGL\" : 2731.23 , \"TSLA\" : 876.38 }\n",
    "\n",
    "high_value_stocks = {symbol:price for symbol , price in stock_data.items() if price > 1000}\n",
    "\n",
    "print(high_value_stocks)\n"
   ]
  },
  {
   "cell_type": "code",
   "execution_count": 74,
   "id": "f607e9fd-f64f-4414-9199-9354b55ddb84",
   "metadata": {},
   "outputs": [
    {
     "name": "stdout",
     "output_type": "stream",
     "text": [
      "{'AAPL': {'2026-10-2': 145.09, '2026-10-3': 150.0}, 'GOGL': {'2026-10-2': 2731.32, '2026-10-3': 2750.0}}\n",
      "{'2026-10-2': [145.09, 150.0], '2026-10-3': [2731.32, 2750.0]}\n"
     ]
    }
   ],
   "source": [
    "\n",
    "# Nested Comprehension\n",
    "\n",
    "symbol = [\"AAPL\" , \"GOGL\"]\n",
    "dates = [\"2026-10-2\" , \"2026-10-3\"]\n",
    "prices = [[145.09 , 150.00] , [2731.32 , 2750.00]]\n",
    "\n",
    "historical_prices = { symbol:{date:prices[i][j] for j , date in enumerate(dates)} for i,symbol in enumerate(symbol)}\n",
    "print(historical_prices)\n",
    "\n",
    "historical_prices = {date:prices[j] for j,date in enumerate(dates)}\n",
    "print(historical_prices)\n"
   ]
  },
  {
   "cell_type": "code",
   "execution_count": null,
   "id": "7d3ec59b-943b-4317-9f1f-00a91653af70",
   "metadata": {},
   "outputs": [],
   "source": []
  }
 ],
 "metadata": {
  "kernelspec": {
   "display_name": "Python [conda env:base] *",
   "language": "python",
   "name": "conda-base-py"
  },
  "language_info": {
   "codemirror_mode": {
    "name": "ipython",
    "version": 3
   },
   "file_extension": ".py",
   "mimetype": "text/x-python",
   "name": "python",
   "nbconvert_exporter": "python",
   "pygments_lexer": "ipython3",
   "version": "3.13.5"
  }
 },
 "nbformat": 4,
 "nbformat_minor": 5
}
