{
 "cells": [
  {
   "cell_type": "code",
   "execution_count": null,
   "id": "2c427e2f-0238-4031-86fe-fe307f5181ec",
   "metadata": {},
   "outputs": [],
   "source": [
    "#python Output/Print Function\n",
    "#print()\n",
    "\n",
    "#definition :- the print function in python is used to output data to the standard output device(screen)\n",
    "#it can be used to print string numbers , or any other printable objects. the function is often used to\n",
    "#displaying information or debugging"
   ]
  },
  {
   "cell_type": "code",
   "execution_count": 43,
   "id": "9f34d9a9-1aa7-4ba0-a1d9-ff409434241c",
   "metadata": {},
   "outputs": [
    {
     "name": "stdout",
     "output_type": "stream",
     "text": [
      "hello world\n",
      "string 100 [1, 2, 3] 1.2 \n",
      " {'hello': 'world'}\n",
      "hello-world-earth\n"
     ]
    }
   ],
   "source": [
    "#print single data type\n",
    "print(\"hello world\")\n",
    "\n",
    "#print multiple data type\n",
    "print(\"string\" , 100 , [1,2,3] , 1.2 , \"\\n\" , {\"hello\" : \"world\"} )\n",
    "\n",
    "#seperator: =\"-\" & #nextline /n\n",
    "print('hello' , end=\"-\")\n",
    "print('world' , end=\"-\")\n",
    "print('earth')\n"
   ]
  },
  {
   "cell_type": "code",
   "execution_count": 24,
   "id": "0e613cca-4ae2-422e-a7f6-da5775546888",
   "metadata": {},
   "outputs": [],
   "source": [
    "#Python Expressions\n",
    "#definition :- expressions are nothing but a combination of variable , values , operators and functions\n"
   ]
  },
  {
   "cell_type": "code",
   "execution_count": null,
   "id": "1043bbb8-507f-470c-bd88-ce1d0b6212bb",
   "metadata": {},
   "outputs": [],
   "source": [
    "#python variable\n",
    "\n",
    "#definition :- variable is python is a names attached to an object or values ,\n",
    "#they are created through assignment operators ( = ) they dont need explicit declaration,\n",
    "#python is dymamically typed which means the type of variable is determined at runtim\n"
   ]
  },
  {
   "cell_type": "code",
   "execution_count": 7,
   "id": "c8f14a44-94a3-497e-9459-35610fa9ad6b",
   "metadata": {},
   "outputs": [
    {
     "name": "stdout",
     "output_type": "stream",
     "text": [
      "1 hello True 3.25\n"
     ]
    }
   ],
   "source": [
    "#decale a variahble\n",
    "\n",
    "a = 1\n",
    "b = \"hello\"\n",
    "c = True\n",
    "d = 3.25\n",
    "\n",
    "print(a , b , c , d)"
   ]
  },
  {
   "cell_type": "code",
   "execution_count": 12,
   "id": "f49c7020-b482-4e91-a61f-82f19c35f41a",
   "metadata": {},
   "outputs": [
    {
     "name": "stdout",
     "output_type": "stream",
     "text": [
      "2\n",
      "2\n",
      "2\n",
      "hello\n",
      "earth\n",
      "world\n"
     ]
    }
   ],
   "source": [
    "#Stylish type to declare a variable\n",
    "\n",
    "a = b = c = 2\n",
    "\n",
    "print(a)\n",
    "print(b)\n",
    "print(c)\n",
    "\n",
    "#OR\n",
    "\n",
    "a , b , c = \"hello\" , \"earth\" , \"world\"\n",
    "\n",
    "print(a)\n",
    "print(b)\n",
    "print(c)\n"
   ]
  },
  {
   "cell_type": "code",
   "execution_count": null,
   "id": "758b9768-da22-48e2-8197-1eda22d2dfed",
   "metadata": {},
   "outputs": [],
   "source": [
    "#pyton keywords and identifiers\n",
    "#definition :- keywords are the reserved words in pyton that cannot be used as ordinary identifiers.\n",
    "#they define the structure of the pyton language. Example include if , for , and while identifiers \n",
    "#are the name given to entities like classes , functions , variables , etc and must start with a letter \n",
    "#or an underscore followed by letter digits or underscore "
   ]
  },
  {
   "cell_type": "code",
   "execution_count": 23,
   "id": "990896a5-8daa-45e8-86ce-76021a1f3a73",
   "metadata": {},
   "outputs": [],
   "source": [
    "#keywords \n",
    "\n",
    "#correct way\n",
    "a = 1\n",
    "def stock_data():  \n",
    " class Market_Analyser:{\n",
    "}\n",
    "\n",
    "#wrong way\n",
    "    \n",
    "# if{\n",
    "#  you cannot use those reserved keywords as your identifiers,\n",
    "# for instance : - variable name \n",
    "#                  function name\n",
    "#                  class name\n",
    "# }\n",
    "\n",
    "#Rules for identifiers {\n",
    "# 1. Can't start with digit\n",
    "# 2. Can't use any special keywords & char execpt __\n",
    "# 3. Identifiers can not be keyword\n",
    "# }"
   ]
  },
  {
   "cell_type": "code",
   "execution_count": null,
   "id": "42114a10-4ca0-47f9-beb7-026328ce7a5a",
   "metadata": {},
   "outputs": [],
   "source": [
    "#Python User Input\n",
    "\n",
    "#Definition :- Python allows for user input , that is it can take input from the user via the keyboard .\n",
    "#The input functions reads a line from input , converts it into a string and return it "
   ]
  },
  {
   "cell_type": "code",
   "execution_count": null,
   "id": "e1c7df67-2406-4eb4-8062-e8ae6ded6fbe",
   "metadata": {},
   "outputs": [],
   "source": [
    "#First Understand :- #Static vs #Dynamic\n",
    "\n",
    "#Static :- In STATIC we only ( GET ) the information like wikipedia or blog\n",
    "#for instance - we cannot communicate \n",
    "\n",
    "#Dynamic :- In DYNAMIC We can Communicate by ( POST ) , search , comment , like.\n"
   ]
  },
  {
   "cell_type": "code",
   "execution_count": 26,
   "id": "b4e8ae2a-68ed-4d2e-a9a1-3a5228a403da",
   "metadata": {},
   "outputs": [
    {
     "name": "stdin",
     "output_type": "stream",
     "text": [
      "current price 47\n",
      "yesterday price 5\n"
     ]
    },
    {
     "name": "stdout",
     "output_type": "stream",
     "text": [
      "42\n"
     ]
    }
   ],
   "source": [
    "#Take input from user and store them in a variable \n",
    "#input()\n",
    "\n",
    "a = input(\"current price\")\n",
    "b = input(\"yesterday price\")\n",
    "\n",
    "#c = a-b  #this code will throw error\n",
    "#it takes string as default so you cannot perform arithmetic operation here\n",
    "\n",
    "#you can do it like this \n",
    "#a = int(input(\"current price\"))\n",
    "#or\n",
    "c = int(a) - int(b)\n",
    "\n",
    "print(c)"
   ]
  },
  {
   "cell_type": "code",
   "execution_count": 31,
   "id": "774070f3-d0ea-475f-852a-4141ddf483cd",
   "metadata": {},
   "outputs": [
    {
     "name": "stdout",
     "output_type": "stream",
     "text": [
      "300\n"
     ]
    }
   ],
   "source": [
    "#Python Type Conversion\n",
    "\n",
    "#definition :- Type Conversion in python refers to the conversion of one data type into another\n",
    "#python provide server built in functions like int() , float() , str() to perform conversions \n",
    "#between data types explicitly\n",
    "\n",
    "#Implicit \n",
    "#In implicit python automatically converts data types \n",
    "\n",
    "#Explicit \n",
    "#In explicit we have to mention\n",
    "\n",
    "#Implicit          vs    Explicit\n",
    "price_1 = 100\n",
    "price_2 = 200            #\"200\"  or int(price_2)\n",
    "\n",
    "total = price_1 + price_2\n",
    "print(total)"
   ]
  },
  {
   "cell_type": "code",
   "execution_count": null,
   "id": "b3b87f48-3e99-4def-be86-2c8c16f6f679",
   "metadata": {},
   "outputs": [],
   "source": [
    "#Python Literals\n",
    "\n",
    "#definiton ;- literals in python are data items given in a variable or constant \n",
    "#python supports various types of literals including string literals (\" hello \" ),\n",
    "#numeric literals eg( 122.20 , 20 ) , boolean literals ( True , False ) and \n",
    "#collection literals (eg [ 1 , 2 , 3 ] , { a : 1 , b : 2} )\n"
   ]
  },
  {
   "cell_type": "code",
   "execution_count": null,
   "id": "a474cf9b-e55a-4e9b-be41-3d4d5e40c4cd",
   "metadata": {},
   "outputs": [],
   "source": [
    "#Types of literals \n",
    "Binary_Literals = 0b1001\n",
    "\n",
    "Decimal_Literals = 3o1\n",
    "\n",
    "Octal_Literals = 0o321\n",
    "\n",
    "Hexadecimal_Literals = 0x21b\n",
    "\n",
    "Float_Literals = 1.2\n",
    "\n",
    "Complex_Literals = 1 + 2\n",
    "\n",
    "String_Literals\n",
    "\n",
    "a = 'hello'      #single quote\n",
    "b = \"hello\"      #double quote\n",
    "c = '''hello'''  #triple quote\n",
    "\n",
    "#unicode string\n",
    "unicode_str = u\"\\U0001F923\\U0001F600\"\n",
    "\n",
    "#Raw string\n",
    "raw_str = r\"raw\\nstring\"\n",
    "\n"
   ]
  },
  {
   "cell_type": "code",
   "execution_count": null,
   "id": "fef71efb-b7cd-4451-9be1-7df90b5e362c",
   "metadata": {},
   "outputs": [],
   "source": []
  }
 ],
 "metadata": {
  "kernelspec": {
   "display_name": "Python [conda env:base] *",
   "language": "python",
   "name": "conda-base-py"
  },
  "language_info": {
   "codemirror_mode": {
    "name": "ipython",
    "version": 3
   },
   "file_extension": ".py",
   "mimetype": "text/x-python",
   "name": "python",
   "nbconvert_exporter": "python",
   "pygments_lexer": "ipython3",
   "version": "3.13.5"
  }
 },
 "nbformat": 4,
 "nbformat_minor": 5
}
