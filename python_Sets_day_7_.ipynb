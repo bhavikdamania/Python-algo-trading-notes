{
 "cells": [
  {
   "cell_type": "code",
   "execution_count": null,
   "id": "40242d7d-9112-482c-9980-9ff5a52814b9",
   "metadata": {},
   "outputs": [],
   "source": [
    "#python seta & dictionaries\n",
    "\n",
    "# what are sets?\n",
    "# A sets is an unordered collection of items. Every set element is unique ( no duplicates )\n",
    "# and must be immutable cannot be changed\n",
    "\n",
    "# However , a set can itself be mutable . we can add or remove items\n",
    "\n",
    "# Sets can also be used to perform \n",
    "# Mathematical set operations like union,\n",
    "# intersection , symmentric difference etc.\n",
    "\n",
    "# characteristics\n",
    "\n",
    "# *unordered\n",
    "# *mutable\n",
    "# *No duplicates\n",
    "# *Can't contain mutable data types\n"
   ]
  },
  {
   "cell_type": "code",
   "execution_count": 10,
   "id": "b95f44d6-01b8-4cdf-88e2-2c3c023aef06",
   "metadata": {},
   "outputs": [],
   "source": [
    "# Sets{} -> curly braces\n",
    "\n",
    "#for instance :\n",
    "# a = { \"AAPL\" , \"GOOGL\" , \"TSLA\" }\n",
    "# b = { \"TSLA\" , \"AMZN\" , \"MSFT\" }\n",
    "\n",
    "# sets do not contain DUPLICATES if there are duplicates \n",
    "# sets contain ignores them \n",
    "\n",
    "#1. union\n",
    "# u = { \"AAPL\" , \"GOOGL\" , \"TSLA\" , \"AMZN\" , \"MSFT\" }\n",
    "#         \\                 \\  \\               \\\n",
    "#          -------------------------------------\n",
    "#                set a             set b\n",
    "\n",
    "#union is a combinations of both the sets as it ignores duplicate\n",
    "\n",
    "\n",
    "\n",
    "#2. Intersection \n",
    "\n",
    "# i = { \"TSLA\" }\n",
    "\n",
    "\n",
    "\n",
    "#3. Difference\n",
    "\n",
    "# a - b = { \"AMZN\" , \"GOGL\" }\n",
    "# b - a = { \"AMZN\" , \"MSFT\" }\n",
    "\n",
    "\n",
    "\n",
    "#4. sementric difference ( ignore the common elements with remaining elements ) \n",
    "\n",
    "# a ^ b = { \"AAPL\" , \"GOGL\" , \"AMZN\" , \"MSFT\" }\n",
    "\n"
   ]
  },
  {
   "cell_type": "code",
   "execution_count": null,
   "id": "8d604f3c-7210-4927-80d4-05d9d1afdeb9",
   "metadata": {},
   "outputs": [],
   "source": [
    "\n",
    "#1. IsDisjoint = \"T\"  # False\n",
    "\n",
    "#2. IsSuperset = \n",
    "# a = { \"AMZN\" , \"GOGL\" }\n",
    "# b = { \"AMZN\" , \"MSFT\" ,\"APPL\" }\n",
    "\n",
    "\n",
    "\n",
    "#3. IsSuperset \n",
    "#b is a = T\n",
    "\n",
    "\n",
    "#4. Is Unique\n",
    "#  b is unique = False\n",
    "#          |\n",
    "#  If duplicate is not working"
   ]
  },
  {
   "cell_type": "code",
   "execution_count": 18,
   "id": "b910acde-1580-4ce4-9426-f0c03332d1c9",
   "metadata": {},
   "outputs": [
    {
     "name": "stdout",
     "output_type": "stream",
     "text": [
      "<class 'set'>\n",
      "{'AMZN', 'MSFT', 'APPL'}\n"
     ]
    },
    {
     "data": {
      "text/plain": [
       "{'A', 'L', 'P'}"
      ]
     },
     "execution_count": 18,
     "metadata": {},
     "output_type": "execute_result"
    }
   ],
   "source": [
    "# hands on lab\n",
    "\n",
    "#How to Create Sets ?\n",
    "#empty\n",
    "\n",
    "s1 = set()\n",
    "s1\n",
    "print(type(s1))\n",
    "\n",
    "\n",
    "# 1D & 2D\n",
    "s1 = { \"AMZN\" , \"MSFT\" ,\"APPL\" }\n",
    "print(s1)\n",
    "\n",
    "\n",
    "#note : - inside of set you cannot have a set or list you have tuple {a , b ,(c)}\n",
    "#          set  =   { , , []}  - list - error\n",
    "#          set  =   { , , {}}  - set  - error\n",
    "s2 = { \"AMZN\" , \"MSFT\" ,\"APPL\" , ( \"AMZN\" , \"GOGL\" )}   #hetrogeneous \n",
    "s2    # {('AMZN', 'GOGL'), 'AMZN', 'APPL', 'MSFT'}\n",
    "\n",
    "#as you can see output is unordered so tuples came first it completely depends on hashing\n",
    "\n",
    "\n",
    "# String type conversion\n",
    "s3 = set(\"AAPL\")      #{'A', 'L', 'P'} #no duplicates & splitted\n",
    "s3\n",
    "\n"
   ]
  },
  {
   "cell_type": "code",
   "execution_count": 26,
   "id": "ce3e33dd-11a5-4fab-81f6-d252eb3577d1",
   "metadata": {},
   "outputs": [
    {
     "data": {
      "text/plain": [
       "{1, 1.5, 'AAPL', 'BTC', 'ETH'}"
      ]
     },
     "execution_count": 26,
     "metadata": {},
     "output_type": "execute_result"
    }
   ],
   "source": [
    "# Adding Items\n",
    "\n",
    "#adding   \n",
    "# add()is similar to append()\n",
    "\n",
    "t2 = { 1 , \"BTC\" , 1.5 , True }\n",
    "\n",
    "t2.add(\"ETH\")\n",
    "t2\n",
    "\n",
    "#update() is adding multiple values()\n",
    "\n",
    "t2.update([\"ETH\" , \"AAPL\"])\n",
    "t2\n",
    "\n"
   ]
  },
  {
   "cell_type": "code",
   "execution_count": 34,
   "id": "216d6052-e5db-4053-b756-18640baba7a9",
   "metadata": {},
   "outputs": [
    {
     "data": {
      "text/plain": [
       "{1}"
      ]
     },
     "execution_count": 34,
     "metadata": {},
     "output_type": "execute_result"
    }
   ],
   "source": [
    "\n",
    "#Deleting Items\n",
    "\n",
    "t2 = { 1 , \"BTC\" , 1.5 , True }\n",
    "\n",
    "#del(t2)      #you can delete whole set\n",
    "#t2\n",
    "\n",
    "\n",
    "# Discard items / Remove Items\n",
    "# note : both methods perform same but discard dosent give you error\n",
    "\n",
    "# discard()\n",
    "# t2.discard(50)\n",
    "\n",
    "t2.discard(\"BTC\")\n",
    "\n",
    "t2\n",
    "\n",
    "# remove()\n",
    "# t2.remove(50)  #error\n",
    "\n",
    "t2.remove(1.5)\n",
    "\n",
    "t2"
   ]
  },
  {
   "cell_type": "code",
   "execution_count": 47,
   "id": "0563d3eb-c69a-4471-b110-1980735f68a2",
   "metadata": {},
   "outputs": [
    {
     "name": "stdout",
     "output_type": "stream",
     "text": [
      "AMZN\n",
      "MSFT\n",
      "APPL\n"
     ]
    }
   ],
   "source": [
    "\n",
    "#Set Opeartion\n",
    "\n",
    "s1 = { \"AMZN\" , \"MSFT\" ,\"APPL\" }\n",
    "s2 = { \"AMZN\" , \"MSFT\" ,\"APPL\" , \"TSLA\" , \"GOGL\" }\n",
    "\n",
    "# union( | )\n",
    "# s1 | s2       # {'AMZN', 'APPL', 'GOGL', 'MSFT', 'TSLA'}\n",
    "\n",
    "# intersection ( & )\n",
    "# s1 & s2       # {'AMZN', 'APPL', 'MSFT'}\n",
    "\n",
    "# difference ( - )\n",
    "s1 - s2         # set()\n",
    "s2 - s1         # {'GOGL', 'TSLA'}\n",
    "\n",
    "# symentric difference\n",
    "s1 ^ s2         # {'GOGL', 'TSLA'}\n",
    "\n",
    "# membership Test\n",
    "\"APPL\" not in s1  # False \n",
    "#if i made a spelling mistake \"AAPEL\"  #True\n",
    "\n",
    "# Iteration\n",
    "for i in s1:\n",
    "  print(i)\n",
    "\n"
   ]
  },
  {
   "cell_type": "code",
   "execution_count": 52,
   "id": "4d001527-882f-429b-a294-77bc955a7438",
   "metadata": {},
   "outputs": [
    {
     "data": {
      "text/plain": [
       "[5, 4, 3, 2, 1]"
      ]
     },
     "execution_count": 52,
     "metadata": {},
     "output_type": "execute_result"
    }
   ],
   "source": [
    "#Set Functions\n",
    "\n",
    "# len / min / max / sorted\n",
    "\n",
    "s = { 3 ,1 , 2 , 4 , 5 }\n",
    "\n",
    "len(s)      # 5\n",
    "\n",
    "min(s)      # 1\n",
    "\n",
    "max(s)      # 5\n",
    "\n",
    "sorted(s , reverse = True)   # [1, 2, 3, 4, 5] , [5, 4, 3, 2, 1]"
   ]
  },
  {
   "cell_type": "code",
   "execution_count": 60,
   "id": "8c82a88a-9c33-4d5a-abf6-0e4f4c9d5b6e",
   "metadata": {},
   "outputs": [
    {
     "name": "stdout",
     "output_type": "stream",
     "text": [
      "{'AMZN', 'MSFT', 'APPL', 'BTC'}\n",
      "{'TSLA', 'GOGL', 'MSFT', 'AMZN', 'APPL', 'BTC'}\n"
     ]
    }
   ],
   "source": [
    "\n",
    "# union / update\n",
    "\n",
    "s1 = { \"AMZN\" , \"MSFT\" ,\"APPL\", \"BTC\"}\n",
    "s2 = { \"AMZN\" , \"MSFT\" ,\"APPL\" , \"TSLA\" , \"GOGL\" }\n",
    "\n",
    "s1.union(s2)    # {'AMZN', 'APPL', 'GOGL', 'MSFT', 'TSLA'}\n",
    "\n",
    "#if you want to change it permanently \n",
    "#if no outputcomes then it changes permanently\n",
    "# s1.update(s2)\n",
    "s2.update(s1)\n",
    "\n",
    "print(s1)       # {'TSLA', 'GOGL', 'MSFT', 'AMZN', 'APPL'}\n",
    "print(s2)       # {'TSLA', 'AMZN', 'GOGL', 'MSFT', 'APPL'}\n"
   ]
  },
  {
   "cell_type": "code",
   "execution_count": 64,
   "id": "b190ac58-af2d-4a43-ac62-838ff8440545",
   "metadata": {},
   "outputs": [
    {
     "data": {
      "text/plain": [
       "{'AMZN', 'APPL', 'MSFT'}"
      ]
     },
     "execution_count": 64,
     "metadata": {},
     "output_type": "execute_result"
    }
   ],
   "source": [
    "\n",
    "# intersection / intersection_update\n",
    "\n",
    "s1 = { \"AMZN\" , \"MSFT\" ,\"APPL\", \"BTC\"}\n",
    "s2 = { \"AMZN\" , \"MSFT\" ,\"APPL\" , \"TSLA\" , \"GOGL\" }\n",
    "\n",
    "# intersection \n",
    "s1.intersection(s2)    # {'AMZN', 'APPL', 'MSFT'}\n",
    "s2.intersection(s1)    # {'AMZN', 'APPL', 'MSFT'}\n",
    "\n",
    "# intersection_update\n",
    "#if want to change changes permanently \n",
    "\n",
    "s1.intersection_update(s2) # {'AMZN', 'APPL', 'MSFT'}\n",
    "s1"
   ]
  },
  {
   "cell_type": "code",
   "execution_count": 77,
   "id": "81da4517-db6d-4fd5-be4b-fa93f998b4c6",
   "metadata": {},
   "outputs": [
    {
     "data": {
      "text/plain": [
       "{'GOGL', 'TSLA'}"
      ]
     },
     "execution_count": 77,
     "metadata": {},
     "output_type": "execute_result"
    }
   ],
   "source": [
    "\n",
    "# difference / difference_update\n",
    "\n",
    "s1 = { \"AMZN\" , \"MSFT\" ,\"APPL\", \"BTC\"}\n",
    "s2 = { \"AMZN\" , \"MSFT\" ,\"APPL\" , \"TSLA\" , \"GOGL\" }\n",
    "\n",
    "# difference\n",
    "\n",
    "#s1.difference(s2)  # {'AMZN', 'APPL', 'MSFT'}\n",
    "#s1\n",
    "\n",
    "#s2.difference(s1)   # {'GOGL', 'TSLA'}\n",
    "#s2\n",
    "\n",
    "# difference_update\n",
    "\n",
    "#s2.difference_update(s1) # {'GOGL', 'TSLA'}\n",
    "#s2\n",
    "\n",
    "s1.difference_update(s2)   #{'BTC'}\n",
    "s1"
   ]
  },
  {
   "cell_type": "code",
   "execution_count": 86,
   "id": "c20424d0-4874-4016-88f5-9eb72a57024a",
   "metadata": {},
   "outputs": [
    {
     "data": {
      "text/plain": [
       "{'BTC', 'GOGL', 'TSLA'}"
      ]
     },
     "execution_count": 86,
     "metadata": {},
     "output_type": "execute_result"
    }
   ],
   "source": [
    "\n",
    "# symmetric_difference / symmetric_difference_update\n",
    "\n",
    "s1 = { \"AMZN\" , \"MSFT\" ,\"APPL\", \"BTC\"}\n",
    "s2 = { \"AMZN\" , \"MSFT\" ,\"APPL\" , \"TSLA\" , \"GOGL\" }\n",
    "\n",
    "# symentric_difference\n",
    "\n",
    "s1.symmetric_difference(s2)  # {'BTC', 'GOGL', 'TSLA'}\n",
    "\n",
    "s2.symmetric_difference(s1)  # {'BTC', 'GOGL', 'TSLA'}\n",
    "\n",
    "# symmetric_difference_update\n",
    "\n",
    "#s1. symmetric_difference_update(s2) # {'BTC', 'GOGL', 'TSLA'}\n",
    "#s1\n",
    "\n",
    "s2.symmetric_difference_update(s1) # {'BTC', 'GOGL', 'TSLA'}\n",
    "s2"
   ]
  },
  {
   "cell_type": "code",
   "execution_count": 99,
   "id": "cc3185cd-f89f-49c0-8b48-b7c9d68afd7c",
   "metadata": {},
   "outputs": [
    {
     "data": {
      "text/plain": [
       "True"
      ]
     },
     "execution_count": 99,
     "metadata": {},
     "output_type": "execute_result"
    }
   ],
   "source": [
    "\n",
    "# Boolean Functions\n",
    "\n",
    "# isdisjoint / issubset / issuperset\n",
    "\n",
    "s1 = { \"AMZN\" , \"MSFT\" ,\"APPL\" , \"BTC\"}\n",
    "s2 = { \"AMZN\" , \"MSFT\" ,\"APPL\" , \"TSLA\" , \"GOGL\" }\n",
    "\n",
    "# isdisjoint\n",
    "s1.isdisjoint(s2)  # False\n",
    "\n",
    "s2.isdisjoint(s1)  # False\n",
    "\n",
    "# issubset\n",
    "s1.issubset(s2)  #False if \"BTC removed then true\"\n",
    "s2.issubset(s1)  #False\n",
    "\n",
    "# issuperset\n",
    "\n",
    "s1.issuperset(s2)  # False\n",
    "s2.issuperset(s1)  #False if \"BTC removed then true\""
   ]
  },
  {
   "cell_type": "code",
   "execution_count": 102,
   "id": "ba2d3df2-a2a6-49b3-9496-597ea42f1d64",
   "metadata": {},
   "outputs": [
    {
     "name": "stdout",
     "output_type": "stream",
     "text": [
      "2598751288032\n",
      "2598751286464\n"
     ]
    }
   ],
   "source": [
    "\n",
    "# copy\n",
    "\n",
    "s1 = { \"AMZN\" , \"MSFT\" ,\"APPL\" , \"BTC\"}\n",
    "s2 = { \"AMZN\" , \"MSFT\" ,\"APPL\" , \"TSLA\" , \"GOGL\" }\n",
    "\n",
    "s3 = s1.copy()\n",
    "\n",
    "print(id(s1))\n",
    "print(id(s3))\n"
   ]
  },
  {
   "cell_type": "code",
   "execution_count": 103,
   "id": "9a07f205-5b09-4df3-bb0e-f85c43dc41dd",
   "metadata": {},
   "outputs": [
    {
     "data": {
      "text/plain": [
       "frozenset({1, 2, 3, 4, 5})"
      ]
     },
     "execution_count": 103,
     "metadata": {},
     "output_type": "execute_result"
    }
   ],
   "source": [
    "\n",
    "# Frozenset\n",
    "\n",
    "# frozenset is just an immutable version of a python set object\n",
    "\n",
    "# create frozen set\n",
    "fs1 = frozenset([1 , 2 , 3 ])\n",
    "fs2 = frozenset([3 , 4 , 5 ])\n",
    "\n",
    "fs1 | fs2\n",
    "\n",
    "# note : there is no update function in frozen set\n",
    "# use: intersection_update / update / difference_update"
   ]
  },
  {
   "cell_type": "code",
   "execution_count": 106,
   "id": "c081c97e-a3c9-430c-bcde-eb7b9d709b32",
   "metadata": {},
   "outputs": [
    {
     "data": {
      "text/plain": [
       "{36, 49, 64, 81, 100}"
      ]
     },
     "execution_count": 106,
     "metadata": {},
     "output_type": "execute_result"
    }
   ],
   "source": [
    "# set comprehension\n",
    "\n",
    "#example\n",
    "{i ** 2 for i in range(1 , 11) } # {1, 4, 9, 16, 25, 36, 49, 64, 81, 100}\n",
    "\n",
    "{i ** 2 for i in range(1 , 11) if i > 5 }"
   ]
  }
 ],
 "metadata": {
  "kernelspec": {
   "display_name": "Python [conda env:base] *",
   "language": "python",
   "name": "conda-base-py"
  },
  "language_info": {
   "codemirror_mode": {
    "name": "ipython",
    "version": 3
   },
   "file_extension": ".py",
   "mimetype": "text/x-python",
   "name": "python",
   "nbconvert_exporter": "python",
   "pygments_lexer": "ipython3",
   "version": "3.13.5"
  }
 },
 "nbformat": 4,
 "nbformat_minor": 5
}
