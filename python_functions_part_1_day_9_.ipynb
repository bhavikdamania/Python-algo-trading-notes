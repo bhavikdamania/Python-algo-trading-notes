{
 "cells": [
  {
   "cell_type": "code",
   "execution_count": null,
   "id": "e93eb250-5d3e-4472-9fca-ff06760a20a6",
   "metadata": {},
   "outputs": [],
   "source": [
    "#What is a Function?\n",
    "\n",
    "# * A Function is a block of organized , reusable code that performs a single action\n",
    "# * Functions provide better modularity and a high degree of code reusability\n",
    "\n",
    "\n",
    "# Define a function\n",
    "\n",
    "# * You define a function using def keyword , followed by the function name , parantheses\n",
    "# ( which can include parameters and a colon )\n",
    "# * The indented block of code following the colon is the body of the function\n",
    "\n",
    "\n",
    "# If single block of code is not organized we can add function for instance , * , + , etc , \n",
    "# with this the function will perform only given action\n",
    "\n",
    "#         organized                         reusable\n",
    "#           |==================================|\n",
    "#         { perform a single task multiple times}           \n",
    "\n",
    "\n",
    "#         modularity < ================= > code-reusibility\n",
    "#             |                                  |\n",
    "#       when we have a big problem               |\n",
    "#       and split that problem in       How to define a function ?\n",
    "#       small chunks                             |\n",
    "#             |                           def functionname()\n",
    "#    for instance claculator                     |\n",
    "#       |              |\n",
    "#    addition      multiplication   <========================= |\n",
    "#    subtraction    division             def Add_Cal(parameter , parameter):\n",
    "\n"
   ]
  },
  {
   "cell_type": "code",
   "execution_count": null,
   "id": "d7edecdd-3923-4416-819a-5175f3229b8e",
   "metadata": {},
   "outputs": [],
   "source": [
    "\n",
    "#1. Defining : use def keyword to define a function\n",
    "\n",
    "#2. Calling : Use the function name followed by parantheses\n",
    "#            to call a function\n",
    "\n",
    "#3. Parameters : Functiuons can accept parameters to make \n",
    "#              them more flexible\n",
    "\n",
    "\n",
    "#define    #calling    #parameters\n",
    "#    |            |           |\n",
    "    def advance_Calculator( a , b )\n",
    "\n"
   ]
  },
  {
   "cell_type": "code",
   "execution_count": null,
   "id": "69a6dfb5-01fd-4253-a46d-6b353b299406",
   "metadata": {},
   "outputs": [],
   "source": [
    "\n",
    "#4. Return values : Functions can return values using return statement\n",
    "\n",
    "#5. Default parameters : You can provide default values for parameters \n",
    "\n",
    "#6. Keyword Arguments : You can call functions using keyword arguments\n",
    "\n",
    "\n",
    "#                        Default Parameters\n",
    "#                               |\n",
    "  def advance_Calculator( a = 1 , b = 2 ):\n",
    "\n",
    "      return a + b   # --> Return Values\n",
    "      \n",
    "  advance_Calculator(a , b)  or (a = 1 , b = 2)\n",
    "#                      |===============|\n",
    "#                      keyword arguments\n"
   ]
  },
  {
   "cell_type": "code",
   "execution_count": null,
   "id": "d49df020-2817-47b7-b02e-1c2999cd1ba0",
   "metadata": {},
   "outputs": [],
   "source": [
    "\n",
    "# What is yhe need of Functions ?\n",
    "\n",
    "# * Promotes code reuse , reducing rebundancy\n",
    "# * Enhances modularity , making complex problems more managable\n",
    "# * Improves readability and maintainability of the code\n",
    "# * Provide abstraction , hiding implementation details\n",
    "# * Facilitates easier testing and debugging\n",
    "# * Encapsulates data and Functionality\n",
    "# * Enforces the DRY principle\n",
    "# * Allows for parameterization , increazing flexibility\n",
    "# * By leveraging these benifits , functions enables you to write\n",
    "#    cleaner , more , efficient  and more organized code.\n",
    "\n"
   ]
  },
  {
   "cell_type": "code",
   "execution_count": 18,
   "id": "dd0bc8c4-a3a9-4dba-8da9-4235639108a7",
   "metadata": {},
   "outputs": [],
   "source": [
    "\n",
    "# How to create functions with Docstring ?\n",
    "\n",
    "# Lets create a Function ( with docstring )\n",
    "\n",
    "def calculate_sma(prices, window):\n",
    "    '''\n",
    "    It will calculate the moving average of prices.\n",
    "    Parameters:\n",
    "    prices : list of numbers\n",
    "    window : integer, size of the moving window\n",
    "    '''\n",
    "    \n",
    "    if len(prices) < window:\n",
    "        print(\"ValueError: The length of the list is less than the window size\")\n",
    "    sma = sum(prices[-window:]) / window\n",
    "    return sma\n"
   ]
  },
  {
   "cell_type": "code",
   "execution_count": 19,
   "id": "69ab6314-7fac-4fc3-8c89-0131f3af5d32",
   "metadata": {},
   "outputs": [
    {
     "data": {
      "text/plain": [
       "15.0"
      ]
     },
     "execution_count": 19,
     "metadata": {},
     "output_type": "execute_result"
    }
   ],
   "source": [
    "prices = [ 10 , 11 , 12 , 13 , 14 , 15 , 16 , 17 ]\n",
    "calculate_sma(prices , 5)"
   ]
  },
  {
   "cell_type": "code",
   "execution_count": 21,
   "id": "acab0416-9c6e-4d32-8911-25919e00fcc8",
   "metadata": {},
   "outputs": [
    {
     "name": "stdout",
     "output_type": "stream",
     "text": [
      "\n",
      "It will calculate the moving average of prices.\n",
      "Parameters:\n",
      "prices : list of numbers\n",
      "window : integer, size of the moving window\n",
      "\n"
     ]
    }
   ],
   "source": [
    "# Docstring : Use Docstring to document your function\n",
    "\n",
    "print(calculate_sma.__doc__ )     #but this is not readable , you need to use print()\n"
   ]
  },
  {
   "cell_type": "code",
   "execution_count": null,
   "id": "b4a65b15-b5eb-4809-89e8-c024172736d3",
   "metadata": {},
   "outputs": [],
   "source": [
    "\n",
    "# What are two points of view ?\n",
    "\n",
    "# In companies you need to give Docstring as they should know who created it and \n",
    "# in which date , and why meaning\n"
   ]
  },
  {
   "cell_type": "code",
   "execution_count": null,
   "id": "d30f37dd-93f8-4448-92f1-fbf9047c32e8",
   "metadata": {},
   "outputs": [],
   "source": [
    "\n",
    "# Parameters vs Arguments and Types of Arguments \n",
    "\n",
    "# Parameters are the variables listed inside the parantheses in the function definition\n",
    "\n",
    "# Arguments are the values passed to the function when it is called\n",
    "\n",
    "# Types of Arguments\n",
    "\n",
    "# * Default Argument : Provides a default value if none is supplied\n",
    "# * Positional Arguments : The arguments that needs to be included in\n",
    "#     the proper position / order \n",
    "# * Keyword Argument : Arguments passed by keyword , not position\n",
    "\n",
    "# -> parameter \n",
    "  def calculate.sma(prices = [] , windows = 1 ):\n",
    "\n",
    "# -> Arguments\n",
    "                  =====\\\n",
    "  calculate_sma( 5 , prices )   # Not an correct order\n",
    "                  \\=====      \n",
    "\n",
    "# correct way\n",
    "  calculate_sma( prices , 5 )\n",
    "\n",
    "# -> keyboard argument\n",
    "\n",
    "list_price = [10 , 11 ,12 ,13 ,14 ,15 , 16 ,17}\n",
    "calculate_sma( windows = 5 , prices = list_price )\n"
   ]
  },
  {
   "cell_type": "code",
   "execution_count": 24,
   "id": "daf9b134-aeb2-4ac2-b258-771fdd90d116",
   "metadata": {},
   "outputs": [
    {
     "data": {
      "text/plain": [
       "360"
      ]
     },
     "execution_count": 24,
     "metadata": {},
     "output_type": "execute_result"
    }
   ],
   "source": [
    " # What are *args and **kwargs\n",
    "\n",
    "# *args and *kwargs are special python keywords that are used to pass\n",
    "# the variable length of arguments to a function\n",
    "\n",
    "# *args allow passing a variable number of non-keyword arguments\n",
    "\n",
    "# *kwargs allows passing a variable number of keyword arguments\n",
    "\n",
    "# *args\n",
    "# allows us to pass a variable number of non-keyword arguments to a function.\n",
    "\n",
    "def calculate_sma( *prices ):\n",
    "    sum_prices = sum(prices)\n",
    "    return sum_prices\n",
    "\n",
    "calculate_sma( 10 , 20 , 30 , 40 , 50 , 60 , 70 , 80 )"
   ]
  },
  {
   "cell_type": "code",
   "execution_count": 35,
   "id": "171aadef-0819-4d78-9cd2-d30cab17f42a",
   "metadata": {},
   "outputs": [
    {
     "name": "stdout",
     "output_type": "stream",
     "text": [
      "symbol'---'AAPL\n",
      "trade_logs'---'Short\n",
      "result'---'profit\n"
     ]
    }
   ],
   "source": [
    "# *kwargs\n",
    "# describe trade\n",
    "\n",
    "# note; whenever a python see a 2 star -> ** it converts into a Dictionary\n",
    "\n",
    "# Describe trade\n",
    "\n",
    "def desc_trade( **kwargs ):\n",
    "    for(key , value) in kwargs.items():\n",
    "     print( f\"{key}'---'{value}\")\n",
    "\n",
    "desc_trade(symbol=\"AAPL\" , trade_logs=\"Short\",result=\"profit\")"
   ]
  },
  {
   "cell_type": "code",
   "execution_count": 37,
   "id": "93686485-34c5-47d1-8cf3-f48ea7146381",
   "metadata": {},
   "outputs": [],
   "source": [
    "# Points to remember while using 'args' and \"kwargs\"\n",
    "\n",
    "# 1] order of the arguments matter ( normal - > * args , ** kwargs )\n",
    "# def desc_trade( price , *args , **kwargs ):\n",
    "\n",
    "# 2] The words *args and *kwargs are only a convention , you can use \n",
    "# any name of your choice\n",
    "# def desc_trade( price , *args , **kwargs ): # you can use any keyword you want\n"
   ]
  },
  {
   "cell_type": "code",
   "execution_count": null,
   "id": "a11fd3c8-8573-4e4f-ba51-077b9010261c",
   "metadata": {},
   "outputs": [],
   "source": [
    "\n",
    "# How Functions are executed in memory?\n",
    "\n",
    "# 1] Function Definition\n",
    "#   * when a function is defined , python creates a function object and assigns it to\n",
    "#  the function's name . The object contains the function's bytecode , its default\n",
    "#  arguments values, and reference to global variable\n",
    "\n",
    "# 2] Memory Allocation\n",
    "#   * Memory is allocated for the function object , which include:\n",
    "#     *1] The compiled function bytecode\n",
    "#     *2] Reference of the function's default arguments\n",
    "#     *3] Reference to any free variables (in the case of closures )\n",
    "\n",
    "# 3] Function Call:\n",
    "#    * When a function is called , python allocate a new frame on the call stack for the \n",
    "#      function execution. the frame contains:\n",
    "#       *1] Local variables\n",
    "#       *2] Arguments passed to the function\n",
    "#       *3] A reference to the function's code object.\n",
    "#       *4] A reference to the functions global variable\n",
    "\n",
    "# 4] Argument Passing\n",
    "#     * The arguments passed to the functions call are assigned to the functions parameters.\n",
    "#       If the arguments include *args or **kwargs, they are also processed accordingly.\n",
    "\n",
    "# 5] Executing the functions:\n",
    "#      * Python executes the function's bytecode within the new frame. if the function calls \n",
    "#        another functions , a new frame is pushed onto the stack for the called functions \n",
    "\n",
    "# 6] Return Value\n",
    "#     *1] When the function completes the execution , it returns a value ( if any ). the return\n",
    "#         value is sent back to the caller.\n",
    "#     *2] The function's frame is then popped from the call stack, and memory allocated for \n",
    "#         local variables withn that frame is freed\n",
    "\n",
    "# 7] Continuing Execution:\n",
    "#      *1] Execution resumes in the calling function ,with the returned value being used as \n",
    "#          needed"
   ]
  },
  {
   "cell_type": "code",
   "execution_count": null,
   "id": "e11d4dd7-1d39-49a2-8870-b7a6d62cb66d",
   "metadata": {},
   "outputs": [],
   "source": [
    "# now we see how we can execute the function there is great tool for python \n",
    "# https://pythontutor.com/ search and paste this code \n",
    "#  \n",
    "# def desc_trade( **kwargs ):\n",
    "#     for(key , value) in kwargs.items():\n",
    "#      print( f\"{key}'---'{value}\")\n",
    "\n",
    "# desc_trade(symbol=\"AAPL\" , trade_logs=\"Short\",result=\"profit\")\n",
    "\n",
    "#we can see here how functions are executed in a memory"
   ]
  },
  {
   "cell_type": "code",
   "execution_count": 40,
   "id": "013a0b3a-2b48-422e-a15c-948ebbd8352e",
   "metadata": {},
   "outputs": [
    {
     "data": {
      "text/plain": [
       "6"
      ]
     },
     "execution_count": 40,
     "metadata": {},
     "output_type": "execute_result"
    }
   ],
   "source": [
    "\n",
    "# Variable Scope\n",
    "\n",
    "def calculate_sma( price1 , price2 ):\n",
    "\n",
    "    sum_price = price1 + price2\n",
    "    inside_func = \"i am from inside of the function\"  # Local variable\n",
    "    return sum_price\n",
    "\n",
    "outside_func = \"I am from outside of the function\"  #Global variable\n",
    "\n",
    "\n",
    "calculate_sma(2 , 4 )\n"
   ]
  }
 ],
 "metadata": {
  "kernelspec": {
   "display_name": "Python [conda env:base] *",
   "language": "python",
   "name": "conda-base-py"
  },
  "language_info": {
   "codemirror_mode": {
    "name": "ipython",
    "version": 3
   },
   "file_extension": ".py",
   "mimetype": "text/x-python",
   "name": "python",
   "nbconvert_exporter": "python",
   "pygments_lexer": "ipython3",
   "version": "3.13.5"
  }
 },
 "nbformat": 4,
 "nbformat_minor": 5
}
