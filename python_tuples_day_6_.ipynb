{
 "cells": [
  {
   "cell_type": "code",
   "execution_count": null,
   "id": "463d3890-a7fb-42bd-8b15-49130a906ddc",
   "metadata": {},
   "outputs": [],
   "source": [
    "#what are the tuples?\n",
    "#Tuples\n",
    "\n",
    "#A tuple in python is similar to a list. The difference between the two is that\n",
    "#we cannot change the elements of a tuple once it is assigned whereas we can change \n",
    "#the elements of a list\n",
    "\n",
    "#in short, a tuple is an immutable list. A tuple can not be changed in any \n",
    "#way once created\n",
    "\n",
    "#Characterstics\n",
    "\n",
    "# 1. Ordered\n",
    "# 2. Unchangeable\n",
    "# 3. Allows duplicate\n"
   ]
  },
  {
   "cell_type": "code",
   "execution_count": 11,
   "id": "3434fd6a-1abc-45c4-a0b0-8c13fe10a16e",
   "metadata": {},
   "outputs": [
    {
     "name": "stdout",
     "output_type": "stream",
     "text": [
      "<class 'tuple'>\n",
      "<class 'tuple'>\n",
      "('Tuples', 'Btc', 'ETH')\n",
      "(1, 'BTC', 1.5, True)\n"
     ]
    },
    {
     "data": {
      "text/plain": [
       "tuple"
      ]
     },
     "execution_count": 11,
     "metadata": {},
     "output_type": "execute_result"
    }
   ],
   "source": [
    "# How to Create tuple\n",
    "# using parenthesis ()\n",
    "\n",
    "# creating tuples \n",
    "\n",
    "# empty\n",
    "t1 = ()\n",
    "print(type(t1))\n",
    "\n",
    "\n",
    "# create a tuple with a single item\n",
    "t2 = (\"Tuples\",)  #<class 'str'> when we add comma ( , ) it becomes tuple\n",
    "print(type(t2))  \n",
    "\n",
    "\n",
    "# homogeneous\n",
    "t3 = (\"Tuples\" , \"Btc\" , \"ETH\")\n",
    "print(t3)\n",
    "\n",
    "\n",
    "# hetrogeneous\n",
    "t4 = (1 , \"BTC\" , 1.5 , True)\n",
    "print(t4)\n",
    "\n",
    "\n",
    "# using type conversion\n",
    "type(tuple(\"BTC\"))\n"
   ]
  },
  {
   "cell_type": "code",
   "execution_count": 17,
   "id": "3c60464d-0dc0-4f7f-8697-e965f6be72e1",
   "metadata": {},
   "outputs": [
    {
     "data": {
      "text/plain": [
       "('BTC', 1.5)"
      ]
     },
     "execution_count": 17,
     "metadata": {},
     "output_type": "execute_result"
    }
   ],
   "source": [
    "# How to access items from an tuple ?\n",
    "\n",
    "# Both data type are same List and Tuple but we cannot change tuple once its\n",
    "# Created because of immutability.\n",
    "\n",
    "#Accesing items\n",
    " # Indexing \n",
    " # slicing\n",
    "\n",
    "t2 = ( 1 , 'BTC' , 1.5 , True )\n",
    "#t2[3]    # returns True\n",
    "  \n",
    "t2[1:3]       #('BTC', 1.5)\n",
    "\n",
    "t2[-3 : -1]   #('BTC', 1.5)"
   ]
  },
  {
   "cell_type": "code",
   "execution_count": 20,
   "id": "de65bcb6-cf97-4f02-a918-275df2923983",
   "metadata": {},
   "outputs": [
    {
     "data": {
      "text/plain": [
       "'BTC'"
      ]
     },
     "execution_count": 20,
     "metadata": {},
     "output_type": "execute_result"
    }
   ],
   "source": [
    "\n",
    "# how to EDIT items in a tuple?\n",
    "\n",
    "# Editing items\n",
    "# immutable just like astrings\n",
    "\n",
    "t2 = ( 1 , 'BTC' , 1.5 , True )\n",
    "t2[1]\n",
    "\n",
    "#t2[1] = 'ETH' # Wrong {as you can see there is a major \n",
    "              # Difference betweemn  list and tuple }"
   ]
  },
  {
   "cell_type": "code",
   "execution_count": 22,
   "id": "785075a5-4b9a-4faa-816c-47efda3ab932",
   "metadata": {},
   "outputs": [],
   "source": [
    "# How to ADD items to a tuple ?\n",
    "\n",
    "# Adding items\n",
    "\n",
    "t2 = ( 1 , 'BTC' , 1.5 , True )\n",
    "\n",
    "#t2[2].append(\"ETH\")        # Adding will also not work , \n",
    "                            # So there is no function for adding items"
   ]
  },
  {
   "cell_type": "code",
   "execution_count": 26,
   "id": "0ed7d4e9-fc4b-4427-831c-a9627adea9ff",
   "metadata": {},
   "outputs": [
    {
     "ename": "NameError",
     "evalue": "name 't2' is not defined",
     "output_type": "error",
     "traceback": [
      "\u001b[1;31m---------------------------------------------------------------------------\u001b[0m",
      "\u001b[1;31mNameError\u001b[0m                                 Traceback (most recent call last)",
      "Cell \u001b[1;32mIn[26], line 14\u001b[0m\n\u001b[0;32m      5\u001b[0m \u001b[38;5;66;03m#del(t2[0])       #del function will also not work\u001b[39;00m\n\u001b[0;32m      6\u001b[0m \n\u001b[0;32m      7\u001b[0m \u001b[38;5;66;03m#{ in short append and delete function not work on tuple }\u001b[39;00m\n\u001b[1;32m   (...)\u001b[0m\n\u001b[0;32m     10\u001b[0m \n\u001b[0;32m     11\u001b[0m \u001b[38;5;66;03m# BUT WE CAN DELETE THE WHOLE TUPLE\u001b[39;00m\n\u001b[0;32m     13\u001b[0m \u001b[38;5;28;01mdel\u001b[39;00m(t2)\n\u001b[1;32m---> 14\u001b[0m \u001b[38;5;28mprint\u001b[39m(t2)\n",
      "\u001b[1;31mNameError\u001b[0m: name 't2' is not defined"
     ]
    }
   ],
   "source": [
    "\n",
    "#How to DELETE items in a tuple?\n",
    "\n",
    "t2 = ( 1 , 'BTC' , 1.5 , True )\n",
    " \n",
    "#del(t2[0])       #del function will also not work\n",
    "\n",
    "#{ in short append and delete function not work on tuple }\n",
    "#              |         |        \n",
    "#         { ADDING }{ DELETING }\n",
    "\n",
    "# BUT WE CAN DELETE THE WHOLE TUPLE\n",
    "\n",
    "del(t2)\n",
    "print(t2)"
   ]
  },
  {
   "cell_type": "code",
   "execution_count": 36,
   "id": "6aef78c7-425e-472f-b4ea-da01c1c18a6b",
   "metadata": {},
   "outputs": [
    {
     "name": "stdout",
     "output_type": "stream",
     "text": [
      "1\n",
      "BTC\n",
      "1.5\n",
      "True\n",
      "1\n",
      "BTC\n",
      "1.5\n",
      "True\n"
     ]
    }
   ],
   "source": [
    "\n",
    "#OPERATIONS on tuple \n",
    "\n",
    "#Arithmetic operators work on tuple\n",
    "\n",
    "t2 = ( 1 , 'BTC' , 1.5 , True )\n",
    "t3 = ( \"1\" , 'BTC' , \"1.5\" , \"True\" )\n",
    "t2 + t3 \n",
    "\n",
    "t2 * 3\n",
    "\n",
    "# MEMBERSHIP \n",
    "\n",
    "'BTC' not in t2     # False\n",
    "\n",
    "\n",
    "# Iteration\n",
    "\n",
    "for i in t2:\n",
    "  print(i)\n",
    "\n",
    "for j in t3:\n",
    "  print(j)"
   ]
  },
  {
   "cell_type": "code",
   "execution_count": 57,
   "id": "3d88cd75-4833-4719-96b7-51c2cd422bce",
   "metadata": {},
   "outputs": [
    {
     "data": {
      "text/plain": [
       "[4, 3, 2, 1]"
      ]
     },
     "execution_count": 57,
     "metadata": {},
     "output_type": "execute_result"
    }
   ],
   "source": [
    "#tuple FUNCTIONS\n",
    "\n",
    "#len / sum / min / max / sorted\n",
    "\n",
    "t2 = ( 1 , 'BTC' , 1.5 , True )\n",
    "t3 = (1 , 2 , 3 , 4 )\n",
    "\n",
    "len(t2)     # 4\n",
    "\n",
    "#sum(t2)     # not work error in hetrogeneous \n",
    "sum(t3)      # only workin homogeneous\n",
    "\n",
    "#min(t2)     # not work error in hetrogeneous \n",
    "min(t3)      # only workin homogeneous\n",
    "\n",
    "#max(t2)     # not work error in hetrogeneous \n",
    "max(t3)      # only workin homogeneous\n",
    "\n",
    "#sorted(t2)   # not work error in hetrogeneous \n",
    "sorted(t3)   # only workin homogeneous\n",
    "\n",
    "# if want in reversing order { reverse = True }\n",
    "sorted(t3 , reverse=True)"
   ]
  },
  {
   "cell_type": "code",
   "execution_count": null,
   "id": "c37235c5-45a0-4775-87a3-2dfbd9ce1725",
   "metadata": {},
   "outputs": [],
   "source": [
    "\n",
    "# What are the DIFFERENCE between lists and tuples\n",
    "\n",
    "#1 . SYNTAX\n",
    "#2 . MUTABILITY\n",
    "#3 . SPEED\n",
    "#4 . MEMORY\n",
    "#5 . BUILT IN FUNCTIONALITY\n",
    "#6 . ERROR PAGE\n",
    "#7 . USABILITY\n",
    "\n",
    "# measure the time taken for various operations \n",
    "# ( CREATION , ACCESS , ITERATION)\n",
    "\n",
    "\n",
    "# compare the memory sizes of list and tuples\n",
    "\n",
    "# lists = [] mutable \n",
    "# Lists can be { EDITED , CHANGED , DELETED }\n",
    "\n",
    "\n",
    "# Tuples = () immutable\n",
    "# for instance : Storage_para = [ 50 , 100 , \"sma\" , \"ema\"]\n",
    "#                                   |\n",
    "#    {this can't be changed so in that case we use tuples}\n",
    "\n",
    "\n",
    "#mutables :- are little bit slower\n",
    "#immutables :- are little bit faster\n"
   ]
  },
  {
   "cell_type": "code",
   "execution_count": 100,
   "id": "9accb96c-a330-4b77-922e-a87dbbc17d9c",
   "metadata": {},
   "outputs": [
    {
     "name": "stdout",
     "output_type": "stream",
     "text": [
      "size of list :8000056.bytes\n",
      "size of tuples :8000040.bytes\n",
      "List creation time 0.024925947189331055 seconds\n",
      "tuple creation time 0.020347118377685547 seconds\n",
      "List access time: 0.05511331558227539 seconds\n",
      "Tuple access time: 0.06019401550292969 seconds\n",
      "List iteration time 0.01948714256286621 seconds\n",
      "Tuple iteration time 0.02055835723876953 seconds\n",
      "List append time 0.0024268627166748047 seconds\n",
      "List extend time 0.00015592575073242188 seconds\n"
     ]
    }
   ],
   "source": [
    "import time\n",
    "import sys\n",
    "\n",
    "#number of elements to use in lists and tuples\n",
    "num_elements = 1000000\n",
    "\n",
    "#simple data generation\n",
    "data = list(range(num_elements))\n",
    "\n",
    "#measure memory sizes\n",
    "data_list = data[:]\n",
    "data_tuple = tuple(data)\n",
    "\n",
    "list_size = sys.getsizeof(data_list)\n",
    "tuple_size = sys.getsizeof(data_tuple)\n",
    "\n",
    "print(f\"size of list :{list_size}.bytes\")\n",
    "print(f\"size of tuples :{tuple_size}.bytes\")\n",
    "\n",
    "#time measurement for creation\n",
    "start_time = time.time()\n",
    "data_list = list(range(num_elements))\n",
    "end_time = time.time()\n",
    "\n",
    "print(f\"List creation time {end_time - start_time} seconds\")\n",
    "\n",
    "start_time = time.time()\n",
    "data_tuple = tuple(range(num_elements))\n",
    "end_time = time.time()\n",
    "\n",
    "print(f\"tuple creation time {end_time - start_time} seconds\")\n",
    "\n",
    "#Time measurement for sucess\n",
    "\n",
    "start_time = time.time()\n",
    "for _ in range(1000000):\n",
    "    _=data_list[500000]\n",
    "end_time = time.time()\n",
    "\n",
    "print(f\"List access time: { end_time-start_time} seconds\")\n",
    "\n",
    "\n",
    "start_time = time.time()\n",
    "for _ in range(1000000):\n",
    "    _=data_tuple[500000]\n",
    "end_time = time.time()\n",
    "\n",
    "print(f\"Tuple access time: { end_time-start_time} seconds\")\n",
    "\n",
    "#Time measurement for iteration\n",
    "\n",
    "start_time = time.time()\n",
    "for item in data_list:\n",
    "     pass\n",
    "end_time = time.time()\n",
    "\n",
    "print(f\"List iteration time {end_time-start_time} seconds\")\n",
    "\n",
    "start_time = time.time()\n",
    "for item in data_tuple:\n",
    "     pass\n",
    "end_time = time.time()\n",
    "\n",
    "print(f\"Tuple iteration time {end_time-start_time} seconds\")\n",
    "\n",
    "#time measurement for append( list only )\n",
    "\n",
    "start_time = time.time()\n",
    "for _ in range(10000):\n",
    "     data_list.append(100)\n",
    "end_time = time.time()\n",
    "\n",
    "print(f\"List append time {end_time-start_time} seconds\")\n",
    "\n",
    "#time measurement for extend( list only )\n",
    "\n",
    "start_time = time.time()\n",
    "data_list.extend(range(10000))\n",
    "end_time = time.time()\n",
    "\n",
    "print(f\"List extend time {end_time-start_time} seconds\")"
   ]
  },
  {
   "cell_type": "code",
   "execution_count": null,
   "id": "eca336e3-f4e1-4efc-82e6-4c191ec07e21",
   "metadata": {},
   "outputs": [],
   "source": [
    "#Explanation \n",
    "\n",
    "#1 . Memory size measurement\n",
    "#   * we generate sample data and convert it into a list and a tuple\n",
    "#   * Use sys.getsizeof() to measure the memory size of both structures.\n",
    "\n",
    "#2 .Time measurement for creation :\n",
    "#   * measure the time to create a list and tuple with the same idea.\n",
    "\n",
    "#3 .Time measurement for sucess\n",
    "#   * measure the time taken to repeatedly access a miidle element in both the list and tuple\n",
    "\n",
    "#4 .Time Measurement for iteration:\n",
    "#   * measure the time taken to iterate through all elements in both the list and tuple.\n",
    "\n",
    "#5 .Time measuremnet for append and extend\n",
    "#   * Measure the time taken to append new elements to the list and extend the list with\n",
    "#     a range of new elements ( not applicable for tuples since they are immutable)"
   ]
  },
  {
   "cell_type": "code",
   "execution_count": 104,
   "id": "fe18aa06-22bf-4e3c-8aef-f4d5de247d9a",
   "metadata": {},
   "outputs": [
    {
     "name": "stdout",
     "output_type": "stream",
     "text": [
      "[1, 2, 3, 4]\n",
      "[1, 2, 3, 4]\n",
      "(1, 2, 3, 4)\n",
      "(1, 2, 3)\n"
     ]
    }
   ],
   "source": [
    "\n",
    "# results interpretation\n",
    "# 1. tuples generally consumes less memeory than lists for the same data \n",
    "# 2. List creation and iteration might be faster then tuples , depending on the environment and data size\n",
    "# 3. List-specific operations like append and extend cannot be performed on tuples , \n",
    "#    highlighting the mutability of lists\n",
    "\n",
    "a = [1 , 2 ,3 ]\n",
    "b = a\n",
    "a.append(4)\n",
    "\n",
    "print(a)\n",
    "print(b)\n",
    "\n",
    "a = (1 , 2 , 3)\n",
    "b = a\n",
    "a = a+(4,)\n",
    "\n",
    "print(a)\n",
    "print(b)"
   ]
  },
  {
   "cell_type": "code",
   "execution_count": 106,
   "id": "ed140669-8f0c-4fda-b503-cf52ae4bc5fa",
   "metadata": {},
   "outputs": [
    {
     "name": "stdout",
     "output_type": "stream",
     "text": [
      "2021-01-01 100 150\n",
      "2021-01-01 100\n"
     ]
    }
   ],
   "source": [
    "# why use tuples ?\n",
    "\n",
    "# *immutable data structures\n",
    "# *Efficient memory usage\n",
    "# *Hashable keys for dictionaries\n",
    "# *fixed and unmodified datasets\n",
    "# *improved performance for read-only operations \n",
    "\n",
    "# special syntax\n",
    "\n",
    "#tuple unpacking\n",
    "\n",
    "date , open_price , high = ('2021-01-01' , 100 , 150)\n",
    "print(date , open_price , high)\n",
    "\n",
    "date,open_price = ('2021-01-01', 100)\n",
    "print(date , open_price)"
   ]
  },
  {
   "cell_type": "code",
   "execution_count": 107,
   "id": "61e0b278-267e-4244-9d1c-46e39267ee09",
   "metadata": {},
   "outputs": [
    {
     "name": "stdout",
     "output_type": "stream",
     "text": [
      "Date 2021-01-01 , Close 105 , Volume 1500\n",
      "Date 2021-01-02 , Close 100 , Volume 1800\n",
      "Date 2021-01-03 , Close 205 , Volume 2000\n"
     ]
    }
   ],
   "source": [
    "#historical trade data\n",
    "\n",
    "trade_data = [\n",
    "    ('2021-01-01' , 100 , 110 , 95 , 105 , 1500 ),\n",
    "    ('2021-01-02' , 106 , 112 , 110 , 100 , 1800 ),\n",
    "    ('2021-01-03' , 101 , 180 , 75 , 205 , 2000 ),\n",
    "]\n",
    "\n",
    "# extract and print closing price and volume for date , open_price ,\n",
    "# high , low , close , volume in trade data\n",
    "\n",
    "for date , open_price , high , low , close , volume in trade_data:\n",
    "    print(f\"Date {date} , Close {close} , Volume {volume}\")"
   ]
  },
  {
   "cell_type": "code",
   "execution_count": 110,
   "id": "0ab9bfa5-4df4-453f-8703-c3a6ef231f96",
   "metadata": {},
   "outputs": [
    {
     "name": "stdout",
     "output_type": "stream",
     "text": [
      "1 2\n",
      "[3, 4]\n",
      "1 2\n",
      "[3003, 3002]\n"
     ]
    }
   ],
   "source": [
    "a,b,*others = ( 1 ,2 ,3 ,4 )\n",
    "print(a,b)\n",
    "print(others)\n",
    "\n",
    "date , open_price , *others = ('2021-01-01' , 202 , 3003 , 3002)\n",
    "\n",
    "print(a,b)\n",
    "print(others)"
   ]
  },
  {
   "cell_type": "code",
   "execution_count": 114,
   "id": "67a0164a-2382-4d0d-b68d-2f058f0b7167",
   "metadata": {},
   "outputs": [
    {
     "data": {
      "text/plain": [
       "[('2025-01-02', '2021-01-02'), (106, 100)]"
      ]
     },
     "execution_count": 114,
     "metadata": {},
     "output_type": "execute_result"
    }
   ],
   "source": [
    "#zipping tools\n",
    "\n",
    "trade_log = ( \"2025-01-02\" , 106 )\n",
    "trade_log1 = (\"2021-01-02\" , 100 )\n",
    "\n",
    "zip( trade_log , trade_log1 )   #<zip at 0x11a613fb180>\n",
    "\n",
    "tuple(zip( trade_log , trade_log1 ))   #(('2025-01-02', '2021-01-02'), (106, 100))\n",
    "\n",
    "list(zip( trade_log , trade_log1 ))\n",
    "\n"
   ]
  }
 ],
 "metadata": {
  "kernelspec": {
   "display_name": "Python [conda env:base] *",
   "language": "python",
   "name": "conda-base-py"
  },
  "language_info": {
   "codemirror_mode": {
    "name": "ipython",
    "version": 3
   },
   "file_extension": ".py",
   "mimetype": "text/x-python",
   "name": "python",
   "nbconvert_exporter": "python",
   "pygments_lexer": "ipython3",
   "version": "3.13.5"
  }
 },
 "nbformat": 4,
 "nbformat_minor": 5
}
