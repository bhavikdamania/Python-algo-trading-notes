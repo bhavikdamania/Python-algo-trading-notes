{
 "cells": [
  {
   "cell_type": "code",
   "execution_count": null,
   "id": "6951e460-df8e-4ab6-ad27-31eb8b6690b8",
   "metadata": {},
   "outputs": [],
   "source": [
    "# first lets see what we cover in previous lecture of OOP\n",
    "\n",
    "# what is oop\n",
    "# what is constructur function\n",
    "# self keyword\n",
    "# golden rule of object "
   ]
  },
  {
   "cell_type": "code",
   "execution_count": null,
   "id": "021f2194-9dbe-4015-8072-4606e9d8707d",
   "metadata": {},
   "outputs": [],
   "source": [
    "\n",
    "# Role of Self in Pyton\n",
    "\n",
    "\n",
    "\n"
   ]
  },
  {
   "cell_type": "code",
   "execution_count": null,
   "id": "22c7d0f7-e56a-447e-bbde-8afe23397b73",
   "metadata": {},
   "outputs": [],
   "source": [
    "\n",
    "# What is magic methods ?\n",
    "\n",
    "# magic methods ( Dunder Methods )\n",
    "#|\n",
    "#|-> Special method --|\n",
    "#                   Super Power\n",
    "#                        |\n",
    "#  1] Do not need function call\n",
    "#  2] __init__() , __str__ , __repr__ , __add__ \n",
    "#     { there are multiple tpes of magic methods / go to google and search }\n",
    "#  \n",
    "#  3] similarly you can create your own data types with the help of magic methods.\n",
    "#  4] define the behaviour of your custom objects\n",
    "#  5] make your class more readable and motre comphrehensive\n",
    "#  6] Intitive\n",
    "#  7] Integration\n",
    "\n"
   ]
  },
  {
   "cell_type": "code",
   "execution_count": 82,
   "id": "daef88cd-b423-4a9d-828c-2d84603ee2bf",
   "metadata": {},
   "outputs": [],
   "source": [
    "# hands on lab\n",
    "\n",
    "class Trades:\n",
    "    def __init__(self, symbol , quantity , price ):\n",
    "        self.symbol = symbol\n",
    "        self.quantity = quantity\n",
    "        self.price = price\n",
    "        \n",
    "    def __repr__(self):\n",
    "        return f\"symbol = {self.symbol} , quantity = {self.quantity} , price = {self.price}\"\n",
    "        # print(\"yea im done already\")\n",
    "\n",
    "    def __str__(self):\n",
    "        return f\"{self.quantity} shares of {self.symbol} at {self.price}\"\n",
    "\n",
    "    def __add__(self , other):\n",
    "        if self.symbol == other.symbol:\n",
    "            new_quantity = self.quantity + other.quantity\n",
    "            average_price = (self.quantity*self.price + other.quantity*other.price)/new_quantity\n",
    "            return f\"The latest quantity is {new_quantity} with an average of {average_price}\"\n",
    "        else:\n",
    "            return f\"Both the symbols should be same\"\n",
    "    def __sub__(self , other):\n",
    "        if self.symbol == other.symbol:\n",
    "            new_quantity = self.quantity - other.quantity\n",
    "            return f\"The latest quantity is {new_quantity}\"\n",
    "        else:\n",
    "            return f\"Both the symbols should be same\"   "
   ]
  },
  {
   "cell_type": "code",
   "execution_count": 83,
   "id": "db79bdbf-c795-4cbf-be56-d78699434eee",
   "metadata": {},
   "outputs": [],
   "source": [
    "trade1 = Trades( \"BTC\" , 1.5 , 71000 )\n",
    "\n",
    "trade2 = Trades( \"BTC\" , 0.5 , 21000 )"
   ]
  },
  {
   "cell_type": "code",
   "execution_count": 85,
   "id": "d4076bd2-c87e-4008-abe2-0471bdf11eb5",
   "metadata": {},
   "outputs": [
    {
     "name": "stdout",
     "output_type": "stream",
     "text": [
      "The latest quantity is 2.0 with an average of 58500.0\n",
      "The latest quantity is 1.0\n"
     ]
    }
   ],
   "source": [
    "# print(repr(trade1))\n",
    "\n",
    "# print(str(trade1))\n",
    "# print(trade1)\n",
    "\n",
    "print(trade1 + trade2)\n",
    "\n",
    "print(trade1 - trade2)\n"
   ]
  },
  {
   "cell_type": "code",
   "execution_count": 111,
   "id": "34e25ba0-db29-4c37-8dd4-4f2ae9833eb5",
   "metadata": {},
   "outputs": [],
   "source": [
    "\n",
    "# How do Objects access attributes ?\n",
    "\n",
    "class Trader:\n",
    "    def __init__(self , name_input , trading_style_input):\n",
    "        self.name = name_input\n",
    "        self.trading_style = trading_style_input\n",
    "\n",
    "    def greet(self):\n",
    "        if self.trading_style == \"day trading\":\n",
    "            print(\"good day for trading ,\", self.name)\n",
    "        elif self.trading_style == \"swing trading\":\n",
    "            print(\"Hope you can catch the swings ,\" , self.name)\n",
    "        elif self.trading_style == \"scalping\":\n",
    "            print(\"Keep it fast and precise ,\", self.name)\n",
    "        else:\n",
    "            print(\"Happy trading\" , self.name)"
   ]
  },
  {
   "cell_type": "code",
   "execution_count": 112,
   "id": "50301218-dc78-4dd6-b556-69842a9bfdfb",
   "metadata": {},
   "outputs": [],
   "source": [
    "# How to acess attributes\n",
    "\n",
    "trade1 = Trader(\"Bhavik\" , \"scalping\")\n",
    "\n",
    "trade2 = Trader(\"Kuldeep\" , \"day trading\")"
   ]
  },
  {
   "cell_type": "code",
   "execution_count": 113,
   "id": "30329c85-8895-45cf-bdb7-c71977ae5927",
   "metadata": {},
   "outputs": [
    {
     "name": "stdout",
     "output_type": "stream",
     "text": [
      "Keep it fast and precise , Bhavik\n",
      "good day for trading , Kuldeep\n"
     ]
    }
   ],
   "source": [
    "trade1.name \n",
    "trade1.trading_style \n",
    "trade1.greet()  \n",
    "\n",
    "trade2.name \n",
    "trade2.trading_style \n",
    "trade2.greet()  \n"
   ]
  },
  {
   "cell_type": "code",
   "execution_count": 115,
   "id": "26c146d7-47e1-4c0e-9036-695e98b0ba8d",
   "metadata": {},
   "outputs": [
    {
     "ename": "AttributeError",
     "evalue": "'Trader' object has no attribute 'loss'",
     "output_type": "error",
     "traceback": [
      "\u001b[1;31m---------------------------------------------------------------------------\u001b[0m",
      "\u001b[1;31mAttributeError\u001b[0m                            Traceback (most recent call last)",
      "Cell \u001b[1;32mIn[115], line 12\u001b[0m\n\u001b[0;32m      7\u001b[0m trade2\u001b[38;5;241m.\u001b[39mprofit\n\u001b[0;32m      9\u001b[0m \u001b[38;5;66;03m#or\u001b[39;00m\n\u001b[0;32m     10\u001b[0m \n\u001b[0;32m     11\u001b[0m \u001b[38;5;66;03m#what if i try to access non-existence attributes\u001b[39;00m\n\u001b[1;32m---> 12\u001b[0m trade2\u001b[38;5;241m.\u001b[39mloss\n",
      "\u001b[1;31mAttributeError\u001b[0m: 'Trader' object has no attribute 'loss'"
     ]
    }
   ],
   "source": [
    "\n",
    "# new profit attribute has been created outside of the class\n",
    "\n",
    "# see its work , eathier we can create attributs outside the class\n",
    "# or can create inside of the class\n",
    "\n",
    "trade2.profit = 1000\n",
    "trade2.profit\n",
    "\n",
    "#or\n",
    "\n",
    "#what if i try to access non-existence attributes\n",
    "trade2.loss\n",
    "# it will give a error "
   ]
  }
 ],
 "metadata": {
  "kernelspec": {
   "display_name": "Python [conda env:base] *",
   "language": "python",
   "name": "conda-base-py"
  },
  "language_info": {
   "codemirror_mode": {
    "name": "ipython",
    "version": 3
   },
   "file_extension": ".py",
   "mimetype": "text/x-python",
   "name": "python",
   "nbconvert_exporter": "python",
   "pygments_lexer": "ipython3",
   "version": "3.13.5"
  }
 },
 "nbformat": 4,
 "nbformat_minor": 5
}
