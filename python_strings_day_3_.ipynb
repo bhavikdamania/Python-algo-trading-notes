{
 "cells": [
  {
   "cell_type": "code",
   "execution_count": null,
   "id": "590eb84f-2f0d-4f74-a0f0-cccc52de6a50",
   "metadata": {},
   "outputs": [],
   "source": [
    "#Python strings \n",
    "#what are python strings \n",
    "\n",
    "#Python strings are a set of unicode characters\n",
    "\n",
    "     #Ascii                 vs     Unicode\n",
    "\n",
    "#1 earlier languages used       1 Python uses Unicode \n",
    "#  ascii character              charcter\n",
    "\n",
    "#2 holds 128 character          2 holds 14300 character\n",
    "\n",
    "#3 English A , B                3 designed to support\n",
    "# Digits 1 , 2                  all ex , emoji ,symbols\n",
    "# Control and special\n",
    "# characters\n",
    "\n",
    "#4 Ecncoding Size                4 Variable sizes , UTF-8,\n",
    "# ( 7 char per Bits )            if , 32.1 to 4 Bytes#\n",
    "#                                Per Characters\n",
    "\n",
    "#5 Used for Basic                5 Universally accepted\n",
    "# Text representation            for supporting multiple\n",
    "# in English                     languages and symbols"
   ]
  },
  {
   "cell_type": "code",
   "execution_count": null,
   "id": "8e320335-31a3-4ff5-885e-188391e26d59",
   "metadata": {},
   "outputs": [],
   "source": [
    "\n",
    "# 1 Creating Strings\n",
    "\n",
    "#single quotres ' '\n",
    "#doble quotes \" \"\n",
    "#triple quoptes '''\n",
    "#                    '''\n",
    "\n"
   ]
  },
  {
   "cell_type": "code",
   "execution_count": 5,
   "id": "bdf0b271-0153-435e-998d-fb79f1c84808",
   "metadata": {},
   "outputs": [
    {
     "name": "stdout",
     "output_type": "stream",
     "text": [
      "M\n",
      "M\n"
     ]
    }
   ],
   "source": [
    "# 2 Accessing Strings / Accepting Strings    [ 2 ]\n",
    "\n",
    "#    12345678910     POSITIVE INDEXING\n",
    "s = \"MOVE CROSS\"\n",
    "#   -10       -1     NEGATIVE INDEXING\n",
    "\n",
    "print(s[0])          # M\n",
    "\n",
    "print(s[-1])         # S\n",
    "\n"
   ]
  },
  {
   "cell_type": "code",
   "execution_count": 23,
   "id": "69cba7db-2788-4e6c-ab5c-66b079e2e4d8",
   "metadata": {},
   "outputs": [
    {
     "data": {
      "text/plain": [
       "'SSORC EVOM'"
      ]
     },
     "execution_count": 23,
     "metadata": {},
     "output_type": "execute_result"
    }
   ],
   "source": [
    "# 3 Accesing Strings / Slicing              [ 5 ]\n",
    "\n",
    "#    12345678910     POSITIVE INDEXING\n",
    "s = \"MOVE CROSS\"\n",
    "#   -10       -1     NEGATIVE INDEXING\n",
    "\n",
    "s[ : ]               # 'MOVE CROSS'\n",
    "\n",
    "s[0 :  ]             # 'MOVE CROSS'\n",
    "\n",
    "s[0 :-1]             # 'MOVE CROS'\n",
    "\n",
    "\n",
    "# step-size\n",
    "\n",
    "s[ 0 : -1 : 2 ]      #'MV RS'\n",
    "\n",
    "#reverse string \n",
    "\n",
    "s[ : : -1]           #'SSORC EVOM'\n"
   ]
  },
  {
   "cell_type": "code",
   "execution_count": 76,
   "id": "8b5c771c-eb11-4777-b861-1a1cfe5054c9",
   "metadata": {},
   "outputs": [
    {
     "ename": "NameError",
     "evalue": "name 's' is not defined",
     "output_type": "error",
     "traceback": [
      "\u001b[1;31m---------------------------------------------------------------------------\u001b[0m",
      "\u001b[1;31mNameError\u001b[0m                                 Traceback (most recent call last)",
      "Cell \u001b[1;32mIn[76], line 17\u001b[0m\n\u001b[0;32m      5\u001b[0m \u001b[38;5;66;03m#   -10       -1     NEGATIVE INDEXING\u001b[39;00m\n\u001b[0;32m      6\u001b[0m \n\u001b[0;32m      7\u001b[0m \u001b[38;5;66;03m# s['M'] =  m or 'm'   #Not work/error\u001b[39;00m\n\u001b[1;32m   (...)\u001b[0m\n\u001b[0;32m     13\u001b[0m \n\u001b[0;32m     14\u001b[0m \u001b[38;5;66;03m#del\u001b[39;00m\n\u001b[0;32m     16\u001b[0m \u001b[38;5;28;01mdel\u001b[39;00m(s)\n\u001b[1;32m---> 17\u001b[0m \u001b[38;5;28mprint\u001b[39m(s)\n",
      "\u001b[1;31mNameError\u001b[0m: name 's' is not defined"
     ]
    }
   ],
   "source": [
    "#Editing and Deleting\n",
    "\n",
    "#    12345678910     POSITIVE INDEXING\n",
    "s = \"MOVE CROSS\"\n",
    "#   -10       -1     NEGATIVE INDEXING\n",
    "\n",
    "# s['M'] =  m or 'm'   #Not work/error\n",
    "# s[ 0 ] =  m or 'm'   #Immutabliity\n",
    "\n",
    "#Strings are immutable and cannot be changed once created\n",
    "\n",
    "#soluion you can del whole string\n",
    "\n",
    "#del\n",
    "\n",
    "del(s)\n",
    "print(s)\n",
    "\n"
   ]
  },
  {
   "cell_type": "code",
   "execution_count": null,
   "id": "60532a73-a336-4711-9d9c-4ae7e245e80f",
   "metadata": {},
   "outputs": [],
   "source": [
    "#operations on strings\n",
    "\n",
    "# 1. Arithmetic Operations       [ + , * ]\n",
    "# 2. Relational Operations       [ > , < , <= , >= , == , != ]\n",
    "# 3. LogicL Operations           [ AND , OR , NOT ]\n",
    "# 4. Loops on Strings            for i in i\n",
    "# 5. Membership operations       [ IN , NOT IN ]"
   ]
  },
  {
   "cell_type": "code",
   "execution_count": 42,
   "id": "05399b7b-fad0-461a-9993-f3db0f7033f2",
   "metadata": {},
   "outputs": [
    {
     "name": "stdout",
     "output_type": "stream",
     "text": [
      "PricePricePrice\n"
     ]
    }
   ],
   "source": [
    "# 1. ARITHMETIC OPERATIONS\n",
    "\n",
    "a = 'Price'\n",
    "b = 'StopLoss'\n",
    "\n",
    "c = a * 3  #[ + , * ]\n",
    "\n",
    "print( c )"
   ]
  },
  {
   "cell_type": "code",
   "execution_count": 50,
   "id": "d8c0bcd9-4d8e-4b01-aae8-18f52635461e",
   "metadata": {},
   "outputs": [
    {
     "name": "stdout",
     "output_type": "stream",
     "text": [
      "True\n"
     ]
    }
   ],
   "source": [
    "# 2. RELATIONAL OPERATIONS\n",
    "#It is Comparing as LEXIOGRAPHICALLY \n",
    "#(uses ASCII standard)\n",
    "\n",
    "a = price\n",
    "b = StopLoss\n",
    "\n",
    "c = a => b  #[ > , < , <= , >= , == , != ]\n",
    "\n",
    "print(c)  \n"
   ]
  },
  {
   "cell_type": "code",
   "execution_count": 64,
   "id": "11edb3f7-dfa1-4c70-b97c-ed81d4884a9f",
   "metadata": {},
   "outputs": [
    {
     "data": {
      "text/plain": [
       "False"
      ]
     },
     "execution_count": 64,
     "metadata": {},
     "output_type": "execute_result"
    }
   ],
   "source": [
    "#LOGICAL OPERATIOS\n",
    "\n",
    "#logical operators -> True        False\n",
    "                       |            |\n",
    "#                   'anything'    \"   \"\n",
    "#                            (gives last value)\n",
    "\n",
    "a = 'price'\n",
    "b = 'StopLoss'\n",
    "\n",
    "c = a or b\n",
    "\n",
    "c = a and b\n",
    "\n",
    "not a        #[ AND , OR , NOT ]\n"
   ]
  },
  {
   "cell_type": "code",
   "execution_count": 68,
   "id": "4e27377c-4bd3-451e-9a06-169f8e3f47ee",
   "metadata": {},
   "outputs": [
    {
     "name": "stdout",
     "output_type": "stream",
     "text": [
      "stoploss\n",
      "P\n",
      "stoploss\n",
      "r\n",
      "stoploss\n",
      "i\n",
      "stoploss\n",
      "c\n",
      "stoploss\n",
      "e\n"
     ]
    }
   ],
   "source": [
    "#LOOPS ON STRINGS \n",
    "\n",
    "a = 'Price'\n",
    "\n",
    "for i in a:\n",
    " print('stoploss')\n",
    "\n",
    "#or\n",
    "\n",
    " print(i)\n"
   ]
  },
  {
   "cell_type": "code",
   "execution_count": 75,
   "id": "de3928a1-6413-4cdc-a494-758a11b2c5b4",
   "metadata": {},
   "outputs": [
    {
     "name": "stdout",
     "output_type": "stream",
     "text": [
      "False\n"
     ]
    }
   ],
   "source": [
    "#MEMBERSHIP OPERATIONS\n",
    "\n",
    "a = 'price'\n",
    "\n",
    "c = 'P' in a\n",
    "\n",
    "print(c)"
   ]
  },
  {
   "cell_type": "code",
   "execution_count": 87,
   "id": "722cd4eb-71c9-4638-9d4d-d2999925e600",
   "metadata": {},
   "outputs": [
    {
     "data": {
      "text/plain": [
       "15"
      ]
     },
     "execution_count": 87,
     "metadata": {},
     "output_type": "execute_result"
    }
   ],
   "source": [
    "#COMMON STRING FUNCTIONS \n",
    "#THIS FUNCTIONS WORKS ON STRINGS . LIST , DICTIONARIES\n",
    "\n",
    "#visit this ascii standard chart to understand better\n",
    "#https://www.asciitable.com/\n",
    "\n",
    "# len()\n",
    "# min()\n",
    "# max()\n",
    "# sorted()\n",
    "\n",
    "s1 = 'singapore'\n",
    "s2 = 'india'\n",
    "\n",
    "f = s1 + \" \" + s2\n",
    "\n",
    "len(f)     # 15\n",
    "#min(f)    # ' ' \n",
    "#max(f)    # s\n",
    "#sorted(f) # [' ', 'a', 'a', 'd', 'e', 'g', 'i', 'i', 'i', 'n', 'n', 'o', 'p', 'r', 's']"
   ]
  },
  {
   "cell_type": "code",
   "execution_count": 103,
   "id": "094b3434-3d73-42fc-b05d-6a6c308b927b",
   "metadata": {},
   "outputs": [
    {
     "data": {
      "text/plain": [
       "'SINGAPORE INDIA'"
      ]
     },
     "execution_count": 103,
     "metadata": {},
     "output_type": "execute_result"
    }
   ],
   "source": [
    "\n",
    "#Capitalize()\n",
    "#Title()\n",
    "#Upper()\n",
    "#lower()\n",
    "#Swapcase()\n",
    "\n",
    "s1 = 'singapore'\n",
    "s2 = 'india'\n",
    "\n",
    "f = s1 + \" \" + s2\n",
    "\n",
    "#capitalize first word\n",
    "f.capitalize()     #'Singapore india'\n",
    "\n",
    "#capitalize first char of each word\n",
    "f.title()          #'Singapore India'\n",
    "\n",
    "\n",
    "f.upper()          #'SINGAPORE INDIA'\n",
    "\n",
    "f.lower()          #'singapore india'\n",
    "\n",
    "f.swapcase()       #'SINGAPORE INDIA'"
   ]
  },
  {
   "cell_type": "code",
   "execution_count": 113,
   "id": "3b1a8882-8496-41cf-bd46-9361e2d4fc23",
   "metadata": {},
   "outputs": [
    {
     "ename": "ValueError",
     "evalue": "substring not found",
     "output_type": "error",
     "traceback": [
      "\u001b[1;31m---------------------------------------------------------------------------\u001b[0m",
      "\u001b[1;31mValueError\u001b[0m                                Traceback (most recent call last)",
      "Cell \u001b[1;32mIn[113], line 21\u001b[0m\n\u001b[0;32m     18\u001b[0m f\u001b[38;5;241m.\u001b[39mfind(\u001b[38;5;124m'\u001b[39m\u001b[38;5;124mg\u001b[39m\u001b[38;5;124m'\u001b[39m)     \u001b[38;5;66;03m# 3\u001b[39;00m\n\u001b[0;32m     20\u001b[0m f\u001b[38;5;241m.\u001b[39mindex(\u001b[38;5;124m'\u001b[39m\u001b[38;5;124mi\u001b[39m\u001b[38;5;124m'\u001b[39m)    \u001b[38;5;66;03m# 1\u001b[39;00m\n\u001b[1;32m---> 21\u001b[0m f\u001b[38;5;241m.\u001b[39mindex(\u001b[38;5;124m'\u001b[39m\u001b[38;5;124mI\u001b[39m\u001b[38;5;124m'\u001b[39m)\n",
      "\u001b[1;31mValueError\u001b[0m: substring not found"
     ]
    }
   ],
   "source": [
    "\n",
    "#count\n",
    "#find\n",
    "#index\n",
    "\n",
    "s1 = 'singapore'\n",
    "s2 = 'india'\n",
    "\n",
    "f = s1 + \" \" + s2\n",
    "f\n",
    "\n",
    "#check how many i comes in string\n",
    "f.count('i')       #3\n",
    "\n",
    "#find gives index of string\n",
    "#if existing -> index position \n",
    "#if not existing -> returns -1\n",
    "f.find('I')     #-1\n",
    "f.find('g')     # 3\n",
    "\n",
    "f.index('i')    # 1\n",
    "#f.index('I')    #error\n",
    "\n"
   ]
  },
  {
   "cell_type": "code",
   "execution_count": 117,
   "id": "66f11250-6a0f-425c-9602-03b5ad7b4d3e",
   "metadata": {},
   "outputs": [
    {
     "data": {
      "text/plain": [
       "True"
      ]
     },
     "execution_count": 117,
     "metadata": {},
     "output_type": "execute_result"
    }
   ],
   "source": [
    "\n",
    "#endswith\n",
    "#startswith\n",
    "\n",
    "s1 = 'singapore'\n",
    "s2 = 'india'\n",
    "\n",
    "f = s1 + \" \" + s2\n",
    "\n",
    "f.endswith('a')   # True\n",
    "f.startswith('s') # True"
   ]
  },
  {
   "cell_type": "code",
   "execution_count": 122,
   "id": "bb82b8d6-b410-4857-ba14-0f80e5f762bc",
   "metadata": {},
   "outputs": [
    {
     "name": "stdout",
     "output_type": "stream",
     "text": [
      "hello world im bhavik and im from india and curently working in singapore \n"
     ]
    }
   ],
   "source": [
    "\n",
    "#format\n",
    "\n",
    "#endswith\n",
    "#startswith\n",
    "\n",
    "s1 = 'singapore'\n",
    "s2 = 'india'\n",
    "\n",
    "f = s1 + \" \" + s2\n",
    "\n",
    "print(\"hello world im bhavik and im from {1} and curently working in {0} \".format(s1,s2))\n"
   ]
  },
  {
   "cell_type": "code",
   "execution_count": 126,
   "id": "a9001dca-2fe0-42c8-b3c0-c1807b61bedd",
   "metadata": {},
   "outputs": [
    {
     "data": {
      "text/plain": [
       "True"
      ]
     },
     "execution_count": 126,
     "metadata": {},
     "output_type": "execute_result"
    }
   ],
   "source": [
    "\n",
    "#isalnum\n",
    "#isalpha\n",
    "#isdigit\n",
    "#isidentifier\n",
    "\n",
    "s1 = 'singapore123'\n",
    "s2 = 'india'\n",
    "s3 = '123'\n",
    "\n",
    "f = s1 + \" \" + s2 + \" \" + s3\n",
    "\n",
    "s1.isalnum()   #true\n",
    "\n",
    "s2.isalpha()   #true\n",
    "\n",
    "s3.isdigit()   #true\n",
    "\n"
   ]
  },
  {
   "cell_type": "code",
   "execution_count": 130,
   "id": "4e3a65bb-4b34-436a-98b4-1b393dd30109",
   "metadata": {},
   "outputs": [
    {
     "data": {
      "text/plain": [
       "'sngapore123 nda 123'"
      ]
     },
     "execution_count": 130,
     "metadata": {},
     "output_type": "execute_result"
    }
   ],
   "source": [
    "\n",
    "#split\n",
    "#join\n",
    "\n",
    "s1 = 'singapore123'\n",
    "s2 = 'india'\n",
    "s3 = '123'\n",
    "\n",
    "f = s1 + \" \" + s2 + \" \" + s3\n",
    "\n",
    "f.split()      # ['singapore123', 'india', '123']\n",
    "\n",
    "f.split(\"i\")   # ['s', 'ngapore123 ', 'nd', 'a 123']\n",
    "\n",
    "\"\".join(['s', 'ngapore123 ', 'nd', 'a 123'])  #'sngapore123 nda 123'"
   ]
  },
  {
   "cell_type": "code",
   "execution_count": 133,
   "id": "1d991a27-fe1e-4f64-9f92-20b1a968c302",
   "metadata": {},
   "outputs": [
    {
     "data": {
      "text/plain": [
       "'singaporeare really close friends india are really close friends'"
      ]
     },
     "execution_count": 133,
     "metadata": {},
     "output_type": "execute_result"
    }
   ],
   "source": [
    "#Replace()\n",
    "\n",
    "s1 = 'singapore123'\n",
    "s2 = 'india'\n",
    "s3 = '123'\n",
    "\n",
    "f = s1 + \" \" + s2 + \" \" + s3\n",
    "f\n",
    "f.replace(\"123\",\"are really close friends\")\n"
   ]
  },
  {
   "cell_type": "code",
   "execution_count": 137,
   "id": "9c02ee76-6b79-4a3c-996a-37522f106804",
   "metadata": {},
   "outputs": [
    {
     "data": {
      "text/plain": [
       "'singapore123 india 123'"
      ]
     },
     "execution_count": 137,
     "metadata": {},
     "output_type": "execute_result"
    }
   ],
   "source": [
    "#strip\n",
    "\n",
    "s1 = '   singapore123    '\n",
    "s2 = '   india   '\n",
    "s3 = '            123    '\n",
    "\n",
    "f = s1.strip() + \" \" + s2.strip() + \" \" + s3.strip()\n",
    "f\n",
    "\n"
   ]
  }
 ],
 "metadata": {
  "kernelspec": {
   "display_name": "Python [conda env:base] *",
   "language": "python",
   "name": "conda-base-py"
  },
  "language_info": {
   "codemirror_mode": {
    "name": "ipython",
    "version": 3
   },
   "file_extension": ".py",
   "mimetype": "text/x-python",
   "name": "python",
   "nbconvert_exporter": "python",
   "pygments_lexer": "ipython3",
   "version": "3.13.5"
  }
 },
 "nbformat": 4,
 "nbformat_minor": 5
}
